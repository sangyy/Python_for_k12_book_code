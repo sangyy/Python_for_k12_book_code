{
 "cells": [
  {
   "cell_type": "code",
   "execution_count": null,
   "metadata": {},
   "outputs": [],
   "source": [
    "%matplotlib inline\n",
    "import matplotlib.pyplot as plt\n",
    "from matplotlib.image import imread\n",
    "\n",
    "img = imread('fan.jpg')             # 载入图像文件\n",
    "plt.imshow(img)                     # 数据呈现（可指定显示风格）\n",
    "plt.show()                          # 可选"
   ]
  },
  {
   "cell_type": "code",
   "execution_count": null,
   "metadata": {},
   "outputs": [],
   "source": [
    "import matplotlib.pyplot as plt\n",
    "%matplotlib inline\n",
    "\n",
    "import seaborn as sns\n",
    "%config InlineBackend.figure_format='retina'\n",
    "\n",
    "sns.set() \n",
    "plt.rcParams['figure.figsize'] = (9, 6)\n",
    "plt.rcParams['axes.labelpad'] = 10\n",
    "sns.set_style(\"darkgrid\")"
   ]
  },
  {
   "cell_type": "code",
   "execution_count": null,
   "metadata": {},
   "outputs": [],
   "source": [
    "import numpy as np\n",
    "\n",
    "# 导入Matplotlib的pyplot模块，别名为plt。\n",
    "import matplotlib.pyplot as plt\n",
    "\n",
    "%matplotlib inline\n",
    "\n",
    "# 产生数据\n",
    "x = np.arange(0, 6, 0.1)   # 产生范围从0到6的范围数组，0.1为步长。\n",
    "y = np.sin(x)              # 将正弦函数作用于范围数组\n",
    "\n",
    "# 绘制图形\n",
    "plt.plot(x, y)\n",
    "\n",
    "plt.savefig('P85-1.png', dpi = 400, bbox_inches = 'tight')\n",
    "\n",
    "plt.show()"
   ]
  },
  {
   "cell_type": "code",
   "execution_count": null,
   "metadata": {},
   "outputs": [],
   "source": [
    "import numpy as np\n",
    "import matplotlib.pyplot as plt\n",
    "\n",
    "# 产生数据\n",
    "x = np.arange(0, 6, 0.1)                                # 范围从0到6，以0.1为单位产生数据\n",
    "y1 = np.sin(x)\n",
    "y2 = np.cos(x)                                          # 增加第二个函数\n",
    "\n",
    "# 绘制图形\n",
    "plt.plot(x, y1, label = \"sin(x)\")\n",
    "plt.plot(x, y2, linestyle = \"-.\", label=\"cos(x)\")       # 用“点-短线”型虚线绘制cos(x)的图形\n",
    "plt.xlabel(\"x\")                                         # x轴标签\n",
    "plt.ylabel(\"y\")                                         # y轴标签\n",
    "plt.title('sin(x) & cos(x)')                            # 显示绘图的标题\n",
    "\n",
    "plt.legend()                                            # 显示图例，由plot中的label参量指定\n",
    "plt.savefig('P86-1.png', dpi = 400, bbox_inches = 'tight')\n",
    "plt.show()"
   ]
  },
  {
   "cell_type": "code",
   "execution_count": null,
   "metadata": {},
   "outputs": [],
   "source": [
    "%matplotlib inline\n",
    "import matplotlib.pyplot as plt\n",
    "\n",
    "plt.rcParams['font.sans-serif'] = ['SimHei']   # 设置字体为中文黑体。\n",
    "plt.rcParams['axes.unicode_minus'] = False     # 解决负号'-'显示为方块的问题。\n",
    "\n",
    "plt.plot([1, 2, 3, 4, 5, 6, 7, 8, 9, 10, 11, 12],\n",
    "         [2, 4.5, 1, 2, 3.5, 2, 1, 2, 3, 2, 2.5, 4.8]\n",
    "        )\n",
    "\n",
    "plt.title(\"绩效\", size = 16);        # 设置图形的标题。\n",
    "plt.xlabel(\"月份\", size = 14);       # 为x-轴设置标签。\n",
    "plt.ylabel(\"等级\", size = 14);       # 为y-轴设置标签。\n",
    "plt.savefig('P87-1.png', dpi = 400, bbox_inches = 'tight')"
   ]
  },
  {
   "cell_type": "code",
   "execution_count": null,
   "metadata": {},
   "outputs": [],
   "source": [
    "%matplotlib inline\n",
    "import matplotlib.pyplot as plt\n",
    "\n",
    "from matplotlib import style\n",
    "\n",
    "style.use(\"ggplot\")                  # 使用ggplot风格。\n",
    "\n",
    "plt.plot([1, 2, 3, 4, 5, 6, 7, 8, 9, 10, 11, 12],\n",
    "         [2, 4.5, 1, 2, 3.5, 2, 1, 2, 3, 2, 2.5, 4.8]\n",
    "        )\n",
    "\n",
    "plt.title(\"绩效\", size = 16);        # 设置图形的标题。\n",
    "plt.xlabel(\"月份\", size = 14);       # 为x-轴设置标签。\n",
    "plt.ylabel(\"等级\", size = 14);       # 为y-轴设置标签。\n",
    "plt.savefig('P88-1.png', dpi = 400, bbox_inches = 'tight')"
   ]
  },
  {
   "cell_type": "code",
   "execution_count": null,
   "metadata": {},
   "outputs": [],
   "source": [
    "%matplotlib inline\n",
    "import matplotlib.pyplot as plt\n",
    "\n",
    "from matplotlib import style\n",
    "style.use(\"grayscale\")                # 使用grayscale风格。\n",
    "\n",
    "plt.plot([1, 2, 3, 4, 5, 6, 7, 8, 9, 10, 11, 12],\n",
    "         [2, 4.5, 1, 2, 3.5, 2, 1, 2, 3, 2, 2.5, 4.8]\n",
    "        )\n",
    "\n",
    "plt.title(\"绩效\", size = 16);        # 设置图形的标题。\n",
    "plt.xlabel(\"月份\", size = 14);       # 为x-轴设置标签。\n",
    "plt.ylabel(\"等级\", size = 14);       # 为y-轴设置标签。\n",
    "plt.savefig('P89-1.png', dpi = 400, bbox_inches = 'tight')"
   ]
  },
  {
   "cell_type": "code",
   "execution_count": null,
   "metadata": {},
   "outputs": [],
   "source": [
    "style.available"
   ]
  },
  {
   "cell_type": "code",
   "execution_count": null,
   "metadata": {},
   "outputs": [],
   "source": [
    "%matplotlib inline\n",
    "import matplotlib.pyplot as plt\n",
    "from matplotlib import style\n",
    "\n",
    "plt.rcParams['font.sans-serif'] = ['SimHei']\n",
    "plt.rcParams['axes.unicode_minus'] = False\n",
    "\n",
    "style.use(\"ggplot\")\n",
    "\n",
    "plt.bar(                                          # pyplot画条形图的函数\n",
    "    [1, 2, 3, 4, 5, 6, 7, 8, 9, 10, 11, 12],      # 横坐标\n",
    "    [2, 4.5, 1, 2, 3.5, 2, 1, 2, 3, 2, 2.5, 3.4], # 数据点的值\n",
    "    label = \"王 强\",\n",
    "    color = \"m\",                                  # m代表magenta（洋红色）。\n",
    "    align = \"center\"                              # 设置中心对齐方式。\n",
    ")\n",
    "\n",
    "plt.title(\"绩效\", size = 16);\n",
    "plt.xlabel(\"月份\", size = 14);\n",
    "plt.ylabel(\"等级\", size = 14);\n",
    "\n",
    "plt.legend(loc = 'best')                          # 图例自动调整到最佳位置\n",
    "plt.grid(True, color = \"y\")                       # 设置彩色网格背景。\n",
    "plt.savefig('P91-1.png', dpi = 400, bbox_inches = 'tight')"
   ]
  },
  {
   "cell_type": "code",
   "execution_count": null,
   "metadata": {},
   "outputs": [],
   "source": [
    "%matplotlib inline\n",
    "import matplotlib.pyplot as plt\n",
    "from matplotlib import style\n",
    "\n",
    "style.use(\"ggplot\")\n",
    "\n",
    "plt.bar(\n",
    "    [1, 2, 3, 4, 5, 6, 7, 8, 9, 10, 11, 12],\n",
    "    [2, 4.5, 1, 2, 3.5, 2, 1, 2, 3, 2, 2.5, 3.4],\n",
    "    label = \"王 强\",\n",
    "    color = \"y\",\n",
    "    align = \"center\",               \n",
    "    alpha = 0.5                     # 设置透明因子为0.5。\n",
    "       )\n",
    "\n",
    "plt.bar(\n",
    "    [1, 2, 3, 4, 5, 6, 7, 8, 9, 10, 11, 12],\n",
    "    [1.2, 4.1, 0.3, 4, 5.5, 4.7, 4.8, 5.2, 1, 1.1, 3, 2.6],\n",
    "    label = \"李 兵\",\n",
    "    color = \"b\",                    # g代表green（绿色）。\n",
    "    align = \"center\",\n",
    "    alpha = 0.5\n",
    ")\n",
    "\n",
    "\n",
    "plt.title(\"测试结果\")\n",
    "plt.xlabel(\"学期\")\n",
    "plt.ylabel(\"分数\")\n",
    "\n",
    "plt.legend(loc = 'best')\n",
    "plt.grid(True, color = \"y\")\n",
    "plt.savefig('P93-1.png', dpi = 400, bbox_inches = 'tight')"
   ]
  },
  {
   "cell_type": "code",
   "execution_count": null,
   "metadata": {},
   "outputs": [],
   "source": [
    "%matplotlib inline\n",
    "import matplotlib.pyplot as plt\n",
    "\n",
    "rainfall = [17, 19, 16, 30, 90, 170, 180, 140, 60, 20, 40, 10]\n",
    "months = ['一月','二月','三月','四月','五月','六月','七月','八月','九月','十月','十一月','十二月']\n",
    "\n",
    "plt.bar(months, rainfall, align = 'center', color = 'orange')\n",
    "\n",
    "plt.title(\"本年度月降水量\")\n",
    "plt.xlabel(\"月份\")\n",
    "plt.ylabel(\"毫米\")\n",
    "plt.savefig('P93-2.png', dpi = 400, bbox_inches = 'tight')\n",
    "plt.show()"
   ]
  },
  {
   "cell_type": "code",
   "execution_count": null,
   "metadata": {},
   "outputs": [],
   "source": [
    "%matplotlib inline\n",
    "import matplotlib.pyplot as plt\n",
    "\n",
    "rainfall = [17, 19, 16, 30, 90, 170, 180, 140, 60, 20, 40, 10]\n",
    "months = ['一月','二月','三月','四月','五月','六月','七月','八月','九月','十月','十一月','十二月']\n",
    "\n",
    "plt.bar(range(len(rainfall)), rainfall, align = 'center', color = 'orange')\n",
    "plt.xticks(range(len(rainfall)), months, rotation = 'vertical')\n",
    "\n",
    "plt.title(\"本年度月降水量\")\n",
    "plt.xlabel(\"月份\")\n",
    "plt.ylabel(\"毫米\")\n",
    "plt.savefig('P94-1.png', dpi = 400, bbox_inches = 'tight')\n",
    "plt.show()"
   ]
  },
  {
   "cell_type": "code",
   "execution_count": null,
   "metadata": {},
   "outputs": [],
   "source": [
    "%matplotlib inline\n",
    "import matplotlib.pyplot as plt\n",
    "\n",
    "plt.rcParams['font.sans-serif'] = ['SimHei']\n",
    "plt.rcParams['axes.unicode_minus'] = False\n",
    "\n",
    "浏览器列表 = [\"Chrome\", \"MS IE\", \"FireFox\", \"MS Edge\", \"Safari\", \"sogou\", \"Opera\", \"其他\"]\n",
    "\n",
    "市场份额   = [61.64, 11.98, 11.02, 4.23, 3.79, 1.63, 1.52, 4.19]\n",
    "楔形偏移 = (0, 0, 0, 0, 0, 0, 0, 0)\n",
    "\n",
    "plt.pie(市场份额,\n",
    "        explode = 楔形偏移,    # 每个楔形的圆半径偏离部分。\n",
    "        labels = 浏览器列表,\n",
    "        autopct = \"%.1f%%\",   # 使用数值标记楔形的字符串或函数。\n",
    "        shadow = False,       # 不显示阴影。\n",
    "        startangle = 0)       # 从x-轴开始逆时针旋转饼图开始部分一个角度。\n",
    "\n",
    "plt.axis(\"equal\")             # 关闭轴线和标签。\n",
    "plt.title(\"20xx年全球浏览器市场份额\")\n",
    "\n",
    "plt.show()"
   ]
  },
  {
   "cell_type": "code",
   "execution_count": null,
   "metadata": {},
   "outputs": [],
   "source": [
    "%matplotlib inline\n",
    "import matplotlib.pyplot as plt\n",
    "\n",
    "plt.rcParams['font.sans-serif'] = ['SimHei']\n",
    "plt.rcParams['axes.unicode_minus'] = False\n",
    "\n",
    "浏览器列表 = [\"Chrome\", \"MS IE\", \"FireFox\", \"MS Edge\", \"Safari\", \"Sogou\", \"Opera\", \"其他\"]\n",
    "\n",
    "市场份额 = [61.64, 11.98, 11.02, 4.23, 3.79, 1.63, 1.52, 4.19]\n",
    "楔形偏移 = (0, 0, 0.5, 0, 0.8, 0, 0, 0) \n",
    "显示颜色 = ['yellowgreen', 'gold', 'lightskyblue', 'lightcoral']   # 定义楔形片的显示颜色列表。\n",
    "\n",
    "plt.pie(市场份额,\n",
    "        explode = 楔形偏移,                      # 将楔形偏移列表传递给参数explode。 \n",
    "        labels = 浏览器列表,\n",
    "        colors = 显示颜色,                       # 将颜色列表传递给参数colors。 \n",
    "        autopct=\"%.1f%%\",  \n",
    "        shadow = True,                          # 显示阴影。\n",
    "        startangle = 60)                        # 围绕圆心逆时针选择60度角。\n",
    "\n",
    "plt.axis(\"equal\")           \n",
    "plt.title(\"20xx年全球浏览器市场份额\")\n",
    "plt.savefig('P97-1.png', dpi = 300, bbox_inches = 'tight')\n",
    "plt.show()"
   ]
  },
  {
   "cell_type": "code",
   "execution_count": null,
   "metadata": {},
   "outputs": [],
   "source": [
    "%matplotlib inline\n",
    "import matplotlib.pyplot as plt\n",
    "\n",
    "plt.rcParams['font.sans-serif'] = ['SimHei']\n",
    "plt.rcParams['axes.unicode_minus'] = False\n",
    "\n",
    "浏览器列表 = [\"Chrome\", \"MS IE\", \"FireFox\", \"MS Edge\", \"Safari\", \"Sogou\", \"Opera\", \"其他\"]\n",
    "\n",
    "市场份额 = [61.64, 11.98, 11.02, 4.23, 3.79, 1.63, 1.52, 4.19]\n",
    "楔形偏移 = (0,0,0.5,0,0.8,0,0,0)\n",
    "显示颜色 = ['yellowgreen', 'gold', 'lightskyblue', 'lightcoral']\n",
    "\n",
    "pie = plt.pie(市场份额,\n",
    "              explode    = 楔形偏移,  \n",
    "              labels     = 浏览器列表,\n",
    "              colors     = 显示颜色,\n",
    "              autopct    = \"%.1f%%\",   \n",
    "              shadow     = True,\n",
    "              startangle = 80)      \n",
    "plt.axis(\"equal\")           \n",
    "plt.title(\"20xx年全球浏览器市场份额\")\n",
    "\n",
    "plt.legend(pie[0], 浏览器列表, loc = \"upper left\")                # 显示图例。\n",
    "plt.savefig('P98-1.png', dpi = 400, bbox_inches = 'tight')\n",
    "plt.show()"
   ]
  },
  {
   "cell_type": "code",
   "execution_count": null,
   "metadata": {},
   "outputs": [],
   "source": [
    "%matplotlib inline\n",
    "import matplotlib.pyplot as plt\n",
    "\n",
    "sns.set()\n",
    "plt.plot([1, 2, 3, 4, 5, 6, 7, 8],         # 待绘点的x-坐标。\n",
    "         [1, 4, 9, 16, 25, 36, 49, 64],    # y-坐标。\n",
    "         'bo')                             # 点的颜色和形状：b-蓝色，o-圆形。\n",
    "\n",
    "plt.axis([0, 10, 0, 80])                   # 指定各轴的显示范围。\n",
    "\n",
    "plt.savefig('P99-1.png', dpi = 400, bbox_inches = 'tight')\n",
    "\n",
    "plt.show()"
   ]
  },
  {
   "cell_type": "code",
   "execution_count": null,
   "metadata": {},
   "outputs": [],
   "source": [
    "%matplotlib inline\n",
    "import matplotlib.pyplot as plt\n",
    "\n",
    "import numpy as np\n",
    "\n",
    "横轴范围 = np.arange(1, 10, 0.2)             # 指定一个横轴范围。\n",
    "plt.plot(横轴范围, (横轴范围)**(1.5), 'y^',    # 黄色三角标记。\n",
    "         横轴范围, (横轴范围)**(2.0), 'bo',    # 蓝色圆圈标记。\n",
    "         横轴范围, (横轴范围)**(2.5), 'r--'    # 红色虚线标记。\n",
    "        )  \n",
    "\n",
    "plt.axis([0, 8, 0, 80])\n",
    "plt.savefig('P100-1.png', dpi = 400, bbox_inches = 'tight')\n",
    "plt.show()"
   ]
  },
  {
   "cell_type": "code",
   "execution_count": null,
   "metadata": {},
   "outputs": [],
   "source": [
    "%matplotlib inline\n",
    "import matplotlib.pyplot as plt\n",
    "import numpy as np\n",
    "\n",
    "x轴取值范围 = np.arange(1, 4.5, 0.1)\n",
    "\n",
    "plt.subplot(121)                # 创建1x2子绘图阵列，当前为第1个子绘图。\n",
    "plt.plot([1, 2, 3, 4, 5],\n",
    "         [1, 8, 27, 64, 125], \n",
    "         'y^')                  # 绘制一个简单散点图。\n",
    "\n",
    "plt.subplot(122)                # 当前为第2个子绘图。\n",
    "plt.plot(x轴取值范围, (x轴取值范围)**2, 'r^',\n",
    "         x轴取值范围, (x轴取值范围)**3, 'bo',\n",
    "         )                      # 绘制两个散点图。\n",
    "\n",
    "plt.axis([0, 5, 0, 60])\n",
    "plt.savefig('P101-1.png', dpi = 400, bbox_inches = 'tight')\n",
    "plt.show()"
   ]
  },
  {
   "cell_type": "code",
   "execution_count": null,
   "metadata": {},
   "outputs": [],
   "source": [
    "%matplotlib inline\n",
    "import matplotlib.pyplot as plt\n",
    "import matplotlib.font_manager as fm\n",
    "\n",
    "仿宋字体 = fm.FontProperties(fname = r'C:\\Windows\\Fonts\\simfang.ttf')  # 设置中文显示字体。"
   ]
  },
  {
   "cell_type": "code",
   "execution_count": null,
   "metadata": {},
   "outputs": [],
   "source": [
    "图形对象 = plt.figure()              # 创建一个新图形窗口（对象）\n",
    "轴 = 图形对象.add_subplot(1, 1, 1)   # 给图形窗口加入一个轴（子绘图）\n",
    "# plt.savefig('P103-1.png', dpi = 400, bbox_inches = 'tight')"
   ]
  },
  {
   "cell_type": "code",
   "execution_count": null,
   "metadata": {},
   "outputs": [],
   "source": [
    "%matplotlib \n",
    "import numpy as np\n",
    "x = np.linspace(0, 10, 1000)       # 创建一个x-轴范围，取1000个点。\n",
    "y = np.sin(x)\n",
    "\n",
    "图形对象 = plt.figure()              # 创建一个新图形窗口（对象）\n",
    "轴 = 图形对象.add_subplot(1, 1, 1)   # 给图形窗口加入一个轴（子绘图）\n",
    "轴.plot(x, y)                      # 调用`plot方法在“轴”中绘图。\n",
    "\n",
    "display(图形对象)                   # 重新显示图形。\n",
    "plt.savefig('P103-2.png', dpi = 400, bbox_inches = 'tight')"
   ]
  },
  {
   "cell_type": "code",
   "execution_count": null,
   "metadata": {},
   "outputs": [],
   "source": [
    "图形对象 = plt.figure()              # 创建一个新图形窗口（对象）\n",
    "轴 = 图形对象.add_subplot(1, 1, 1)   # 给图形窗口加入一个轴（子绘图）\n",
    "轴.plot(x, y)                      # 调用`plot方法在“轴”中绘图。\n",
    "\n",
    "x = np.linspace(0, 10, 1000)       # 创建一个x-轴范围，取1000个点。\n",
    "y = np.sin(x)\n",
    "y2 = np.cos(x)\n",
    "轴.plot(x, y2)\n",
    "\n",
    "图形对象      # 这条语句的作用与上面的display(图形对象)类似。"
   ]
  },
  {
   "cell_type": "code",
   "execution_count": null,
   "metadata": {},
   "outputs": [],
   "source": [
    "图形对象 = plt.figure()              # 创建一个新图形窗口（对象）\n",
    "轴 = 图形对象.add_subplot(1, 1, 1)   # 给图形窗口加入一个轴（子绘图）\n",
    "轴.plot(x, y)                      # 调用`plot方法在“轴”中绘图。\n",
    "\n",
    "x = np.linspace(0, 10, 1000)       # 创建一个x-轴范围，取1000个点。\n",
    "y = np.sin(x)\n",
    "y2 = np.cos(x)\n",
    "轴.plot(x, y2)\n",
    "\n",
    "轴.set_ylim(-1.5, 2.0);\n",
    "轴.legend(['正弦', '余弦'], prop = 仿宋字体);               # 这里符号`;`的作用是关闭警告信息。\n",
    "\n",
    "图形对象"
   ]
  },
  {
   "cell_type": "code",
   "execution_count": null,
   "metadata": {},
   "outputs": [],
   "source": [
    "轴.set_xlabel(\"$x$\", fontproperties = 仿宋字体, fontsize = 14)\n",
    "轴.set_ylabel(\"$\\sin(x), \\cos(x)$\", fontproperties = 仿宋字体, fontsize = 14)\n",
    "轴.set_title(\"正弦函数与余弦函数\", fontproperties = 仿宋字体, fontsize = 16)\n",
    "\n",
    "图形对象"
   ]
  },
  {
   "cell_type": "code",
   "execution_count": null,
   "metadata": {},
   "outputs": [],
   "source": [
    "图形对象 = plt.figure()\n",
    "\n",
    "for i in range(1, 7):\n",
    "    轴 = 图形对象.add_subplot(2, 3, i)\n",
    "    轴.set_title(\"子绘图 #%i\" % i, fontproperties = 仿宋字体, fontsize = 12)"
   ]
  },
  {
   "cell_type": "code",
   "execution_count": null,
   "metadata": {},
   "outputs": [],
   "source": [
    "图形对象.subplots_adjust(wspace = 0.4, hspace = 0.5)\n",
    "\n",
    "图形对象"
   ]
  },
  {
   "cell_type": "code",
   "execution_count": null,
   "metadata": {},
   "outputs": [],
   "source": [
    "x = np.linspace(0, 10, 1000)\n",
    "for i in range(1, 7):\n",
    "    图形对象.axes[i-1].plot(x, np.sin(i * x))    # 属性axes用于选择“图形对象”的轴（子绘图）索引。\n",
    "    \n",
    "图形对象"
   ]
  },
  {
   "cell_type": "code",
   "execution_count": null,
   "metadata": {},
   "outputs": [],
   "source": [
    "图形, 轴 = plt.subplots()\n",
    "\n",
    "轴.plot(x, np.sin(x));\n",
    "\n",
    "plt.savefig('P107-2.png', dpi = 400, bbox_inches = 'tight')"
   ]
  },
  {
   "cell_type": "code",
   "execution_count": null,
   "metadata": {},
   "outputs": [],
   "source": [
    "图形, 轴 = plt.subplots(2, 3)  # 创建一个2x3子绘图网格\n",
    "\n",
    "for i in range(1, 3):\n",
    "    for j in range(1, 4):\n",
    "        轴[i-1, j-1].plot(x, np.sin((3 * i + j) * x))\n"
   ]
  },
  {
   "cell_type": "code",
   "execution_count": null,
   "metadata": {},
   "outputs": [],
   "source": [
    "图形, 轴 = plt.subplots(2, 3, sharex = True, sharey = True)  # 2x3子网格共享相同的坐标范围\n",
    "\n",
    "for i in range(1, 3):\n",
    "    for j in range(1, 4):\n",
    "        轴[i-1, j-1].plot(x, np.sin((3 * i + j) * x))       "
   ]
  },
  {
   "cell_type": "code",
   "execution_count": null,
   "metadata": {},
   "outputs": [],
   "source": [
    "图形对象 = plt.figure(figsize = (8, 8))       \n",
    "复杂网格 = plt.GridSpec(3, 3)                      # 创建一个`3 x 3`子绘图的网格。\n",
    "第1个轴  = 图形对象.add_subplot(复杂网格[0, :])     # 将整个第1行的子绘图作为“第1个轴”。\n",
    "第2个轴  = 图形对象.add_subplot(复杂网格[1, :2])    # 将第2行的前2个子绘图作为“第2个轴”。\n",
    "第3个轴  = 图形对象.add_subplot(复杂网格[1:, 2])    # 将第3列的后两个子绘图作为“第3个轴”。\n",
    "第4个轴  = 图形对象.add_subplot(复杂网格[2, 0])     # 将第3行、第1列的子绘图作为“第4个轴”。\n",
    "第5个轴  = 图形对象.add_subplot(复杂网格[2, 1])     # 将第3行、第2列的子绘图作为“第5个轴”。\n",
    "\n",
    "plt.savefig('P109-1.png', dpi = 400, bbox_inches = 'tight')"
   ]
  },
  {
   "cell_type": "code",
   "execution_count": null,
   "metadata": {},
   "outputs": [],
   "source": [
    "图形, 轴 = plt.subplots()\n",
    "\n",
    "轴.text(0.5, 0.5,                              # 添加文本起始位置的坐标。\n",
    "        '一元二次方程：$ax^2 + bx + c = 0.$',   # 添加的文本内容。\n",
    "        fontproperties = 仿宋字体,             # 使用的中文字体。   \n",
    "        size = 18,                             # 显示字体大小。 \n",
    "        ha = 'center',                         # 水平对齐方式。    \n",
    "        va = 'center');                        # 垂直对齐方式。\n",
    "plt.savefig('P110-1.png', dpi = 400, bbox_inches = 'tight')"
   ]
  },
  {
   "cell_type": "code",
   "execution_count": null,
   "metadata": {},
   "outputs": [],
   "source": [
    "图形, 轴 = plt.subplots();\n",
    "\n",
    "轴.annotate('轴的起始位置：0.25', \n",
    "           (0.25, 0.25), \n",
    "           textcoords = 'axes fraction', \n",
    "           fontproperties = 仿宋字体, \n",
    "           size = 20);\n",
    "\n",
    "轴.annotate('值的起始位置：0.25', \n",
    "           (0.25, 0.25), \n",
    "           textcoords = 'data', \n",
    "           fontproperties = 仿宋字体, \n",
    "           size = 20);\n",
    "\n",
    "轴.set_ylim(0, 0.5);\n",
    "\n",
    "plt.savefig('P111-1.png', dpi = 400, bbox_inches = 'tight')"
   ]
  },
  {
   "cell_type": "code",
   "execution_count": null,
   "metadata": {},
   "outputs": [],
   "source": [
    "图形, 轴 = plt.subplots()\n",
    "\n",
    "轴.annotate('原点在这里！', \n",
    "           (0, 0), \n",
    "           (0.15, 0.15),\n",
    "           arrowprops = dict(arrowstyle = '->', connectionstyle = 'arc3, rad = 0.5'),\n",
    "           xycoords = 'data', \n",
    "           textcoords = 'axes fraction', \n",
    "           color = 'b',\n",
    "           fontproperties = 仿宋字体,\n",
    "           )"
   ]
  },
  {
   "cell_type": "code",
   "execution_count": null,
   "metadata": {},
   "outputs": [],
   "source": [
    "%matplotlib inline\n",
    "import pandas as pd\n",
    "\n",
    "import matplotlib.pyplot as plt\n",
    "import matplotlib.font_manager as fm\n",
    "\n",
    "仿宋字体 = fm.FontProperties(fname = r'C:\\Windows\\Fonts\\simfang.ttf')\n",
    "\n",
    "鸢尾花数据 = pd.read_csv('iris.csv', names = ['萼片长度', '萼片宽度', '花瓣长度', '花瓣宽度', '类属'])"
   ]
  },
  {
   "cell_type": "code",
   "execution_count": null,
   "metadata": {},
   "outputs": [],
   "source": [
    "# 创建图形和轴\n",
    "图形, 轴 = plt.subplots()\n",
    "\n",
    "# “萼片长度”关于“萼片宽度”的散点图\n",
    "轴.scatter(鸢尾花数据['萼片长度'], 鸢尾花数据['萼片宽度'])\n",
    "\n",
    "# 设置标题和标签\n",
    "轴.set_title('鸢尾花数据', fontproperties = 仿宋字体, fontsize = 14)\n",
    "轴.set_xlabel('萼片长度', fontproperties = 仿宋字体, fontsize = 12)\n",
    "轴.set_ylabel('萼片宽度', fontproperties = 仿宋字体, fontsize = 12)\n",
    "\n",
    "# 显示图形\n",
    "plt.show()"
   ]
  },
  {
   "cell_type": "code",
   "execution_count": null,
   "metadata": {},
   "outputs": [],
   "source": [
    "# 创建颜色字典\n",
    "颜色映射表 = {'Iris-setosa':'r', 'Iris-versicolor':'g', 'Iris-virginica':'b'}\n",
    "\n",
    "# 创建图形和轴\n",
    "图形, 轴 = plt.subplots()\n",
    "\n",
    "# 绘制每个数据点\n",
    "for i in range(len(鸢尾花数据['萼片长度'])):\n",
    "    轴.scatter(鸢尾花数据['萼片长度'][i], \n",
    "               鸢尾花数据['萼片宽度'][i],\n",
    "               color = 颜色映射表[鸢尾花数据['类属'][i]])\n",
    "\n",
    "# 设置标题和标签\n",
    "轴.set_title('鸢尾花数据', fontproperties = 仿宋字体, fontsize = 14)\n",
    "轴.set_xlabel('萼片长度', fontproperties = 仿宋字体, fontsize = 12)\n",
    "轴.set_ylabel('萼片宽度', fontproperties = 仿宋字体, fontsize = 12)\n",
    "\n",
    "# 显示图形\n",
    "plt.show()"
   ]
  },
  {
   "cell_type": "code",
   "execution_count": null,
   "metadata": {},
   "outputs": [],
   "source": [
    "# 获取要绘制的四个数据列（不包括“类属”）\n",
    "数据集属性 = 鸢尾花数据.columns.drop(['类属'])\n",
    "\n",
    "# 创建横坐标数据\n",
    "横坐标数据 = range(0, 鸢尾花数据.shape[0])\n",
    "\n",
    "# 创建图形和轴\n",
    "图形, 轴 = plt.subplots()\n",
    "\n",
    "# 绘制每个列\n",
    "for column in 数据集属性:\n",
    "    轴.plot(横坐标数据, 鸢尾花数据[数据集属性])\n",
    "\n",
    "# 设置标题和图例说明\n",
    "轴.set_title('鸢尾花数据', fontproperties = 仿宋字体, fontsize = 14)\n",
    "轴.legend(['萼片长度', '萼片宽度', '花瓣长度', '花瓣宽度'], prop = 仿宋字体)\n",
    "\n",
    "# 显示图形\n",
    "plt.show()"
   ]
  },
  {
   "cell_type": "code",
   "execution_count": null,
   "metadata": {},
   "outputs": [],
   "source": [
    "# 创建图形和轴\n",
    "图形, 轴 = plt.subplots()\n",
    "\n",
    "# 绘制直方图\n",
    "轴.hist(鸢尾花数据['类属'])\n",
    "\n",
    "# 设置标题和标签\n",
    "轴.set_title('鸢尾花数据', fontproperties = 仿宋字体, fontsize = 14)\n",
    "轴.set_xlabel('类属', fontproperties = 仿宋字体, fontsize = 12)\n",
    "轴.set_ylabel('频率', fontproperties = 仿宋字体, fontsize = 12)\n",
    "\n",
    "# 显示图形\n",
    "plt.show()"
   ]
  },
  {
   "cell_type": "code",
   "execution_count": null,
   "metadata": {},
   "outputs": [],
   "source": [
    "# 创建图形和轴\n",
    "图形, 轴 = plt.subplots()\n",
    "\n",
    "# 计算每个类别的出现次数\n",
    "分布数据 = 鸢尾花数据['类属'].value_counts()\n",
    "\n",
    "# 获取x和y数据\n",
    "数据 = 分布数据.index\n",
    "频率 = 分布数据.values\n",
    "\n",
    "# 创建条形图\n",
    "轴.bar(数据, 频率)\n",
    "\n",
    "# 设置标题和标签\n",
    "轴.set_title('鸢尾花数据', fontproperties = 仿宋字体, fontsize = 14)\n",
    "轴.set_xlabel('类属', fontproperties = 仿宋字体, fontsize = 12)\n",
    "轴.set_ylabel('频率', fontproperties = 仿宋字体, fontsize = 12)\n",
    "\n",
    "# 显示图形\n",
    "plt.show()"
   ]
  },
  {
   "cell_type": "code",
   "execution_count": null,
   "metadata": {},
   "outputs": [],
   "source": [
    "%matplotlib qt"
   ]
  },
  {
   "cell_type": "code",
   "execution_count": null,
   "metadata": {},
   "outputs": [],
   "source": [
    "# 导入3D绘图工具包\n",
    "from mpl_toolkits.mplot3d import Axes3D\n",
    "\n",
    "图形 = plt.figure()\n",
    "轴 = Axes3D(图形)      # 建立一个3D轴\n",
    "\n",
    "z = np.linspace(0, 1, 100)\n",
    "x = z * np.sin(20 * z)\n",
    "y = z * np.cos(20 * z)\n",
    "\n",
    "c = x + y\n",
    "\n",
    "轴.scatter(x, y, z, c = c);\n",
    "plt.savefig('P118-1.png', dpi = 400, bbox_inches = 'tight')"
   ]
  },
  {
   "cell_type": "code",
   "execution_count": null,
   "metadata": {},
   "outputs": [],
   "source": [
    "图形 = plt.figure()\n",
    "轴 = Axes3D(图形)\n",
    "\n",
    "轴.plot(x, y, z, '-b');"
   ]
  },
  {
   "cell_type": "code",
   "execution_count": null,
   "metadata": {},
   "outputs": [],
   "source": [
    "x = np.outer(np.linspace(-2, 2, 30), np.ones(30))\n",
    "y = x.copy().T\n",
    "z = np.cos(x ** 2 + y ** 2)\n",
    "\n",
    "图形 = plt.figure()\n",
    "轴 = Axes3D(图形)\n",
    "\n",
    "轴.plot_surface(x, y, z, cmap = plt.cm.jet, rstride = 1, cstride = 1, linewidth = 0);\n",
    "\n"
   ]
  },
  {
   "cell_type": "code",
   "execution_count": null,
   "metadata": {},
   "outputs": [],
   "source": [
    "u = np.linspace(0, np.pi, 30)\n",
    "v = np.linspace(0, 2 * np.pi, 30)\n",
    "\n",
    "x = np.outer(np.sin(u), np.sin(v))\n",
    "y = np.outer(np.sin(u), np.cos(v))\n",
    "z = np.outer(np.cos(u), np.ones_like(v))\n",
    "\n",
    "\n",
    "图形 = plt.figure()\n",
    "轴 = Axes3D(图形)\n",
    "\n",
    "轴.plot_wireframe(x, y, z);\n"
   ]
  },
  {
   "cell_type": "code",
   "execution_count": null,
   "metadata": {},
   "outputs": [],
   "source": [
    "import seaborn as sns\n",
    "sns.set(font='SimHei');         # 初始化：将系统显示字体设置为中文黑体。 \n",
    "\n",
    "sns.get_dataset_names()         # 获取可用数据集名次的列表。"
   ]
  },
  {
   "cell_type": "code",
   "execution_count": null,
   "metadata": {},
   "outputs": [],
   "source": [
    "import pandas as pd\n",
    "鸢尾花数据 = pd.read_csv('iris.csv', \n",
    "                         names = ['萼片长度', '萼片宽度', \n",
    "                                  '花瓣长度', '花瓣宽度', '类属'])\n",
    "\n",
    "鸢尾花数据.head()"
   ]
  },
  {
   "cell_type": "code",
   "execution_count": null,
   "metadata": {},
   "outputs": [],
   "source": [
    "轴 = sns.scatterplot(x = '萼片长度', y = '萼片宽度', data = 鸢尾花数据)"
   ]
  },
  {
   "cell_type": "code",
   "execution_count": null,
   "metadata": {},
   "outputs": [],
   "source": [
    "sns.scatterplot(x = '萼片长度', y = '萼片宽度', hue = '类属', data = 鸢尾花数据)"
   ]
  },
  {
   "cell_type": "code",
   "execution_count": null,
   "metadata": {},
   "outputs": [],
   "source": [
    "sns.lineplot(data = 鸢尾花数据.drop(['类属'], axis = 1));\n"
   ]
  },
  {
   "cell_type": "code",
   "execution_count": null,
   "metadata": {},
   "outputs": [],
   "source": [
    "sns.distplot(鸢尾花数据['萼片宽度'], bins = 10, kde = False);\n"
   ]
  },
  {
   "cell_type": "code",
   "execution_count": null,
   "metadata": {},
   "outputs": [],
   "source": [
    "sns.distplot(鸢尾花数据['萼片宽度'], bins = 10, kde = True);\n",
    "plt.savefig('P125-1.png', dpi = 400, bbox_inches = 'tight')"
   ]
  },
  {
   "cell_type": "code",
   "execution_count": null,
   "metadata": {},
   "outputs": [],
   "source": [
    "sns.countplot(鸢尾花数据['萼片宽度']);"
   ]
  },
  {
   "cell_type": "code",
   "execution_count": null,
   "metadata": {},
   "outputs": [],
   "source": [
    "sns.boxplot('类属', '萼片长度', data = 鸢尾花数据);"
   ]
  },
  {
   "cell_type": "code",
   "execution_count": null,
   "metadata": {},
   "outputs": [],
   "source": [
    "剖面网格 = sns.FacetGrid(鸢尾花数据, col = '类属')\n",
    "\n",
    "剖面网格 = 剖面网格.map(sns.kdeplot, '萼片长度')"
   ]
  },
  {
   "cell_type": "code",
   "execution_count": null,
   "metadata": {},
   "outputs": [],
   "source": [
    "sns.pairplot(鸢尾花数据, hue = '类属');"
   ]
  },
  {
   "cell_type": "code",
   "execution_count": null,
   "metadata": {},
   "outputs": [],
   "source": [
    "import pandas as pd\n",
    "\n",
    "鸢尾花数据 = pd.read_csv('iris.csv', \n",
    "                    names = ['萼片长度', '萼片宽度', \n",
    "                             '花瓣长度', '花瓣宽度', '类属'])\n",
    "\n",
    "鸢尾花数据.head()"
   ]
  },
  {
   "cell_type": "code",
   "execution_count": null,
   "metadata": {},
   "outputs": [],
   "source": [
    "绘图数据 = 鸢尾花数据.plot.scatter(x = '萼片长度', \n",
    "                                 y = '萼片宽度', \n",
    "                                 title = '鸢尾花数据');\n",
    "\n",
    "plt.show();"
   ]
  },
  {
   "cell_type": "code",
   "execution_count": null,
   "metadata": {},
   "outputs": [],
   "source": [
    "鸢尾花数据.drop(['类属'], axis = 1).plot.line(title = '鸢尾花数据')\n",
    "\n",
    "plt.show()"
   ]
  },
  {
   "cell_type": "code",
   "execution_count": null,
   "metadata": {},
   "outputs": [],
   "source": [
    "鸢尾花数据['萼片长度'].plot.hist()\n",
    "\n",
    "plt.show()"
   ]
  },
  {
   "cell_type": "code",
   "execution_count": null,
   "metadata": {},
   "outputs": [],
   "source": [
    "鸢尾花数据.plot.hist(subplots = True, \n",
    "                    layout = (2, 2), \n",
    "                    figsize = (10, 10), \n",
    "                    bins = 15)\n",
    "plt.show()"
   ]
  },
  {
   "cell_type": "code",
   "execution_count": null,
   "metadata": {},
   "outputs": [],
   "source": [
    "鸢尾花数据['类属'].value_counts().sort_index().plot.bar()\n",
    "\n",
    "plt.show()"
   ]
  },
  {
   "cell_type": "code",
   "execution_count": null,
   "metadata": {},
   "outputs": [],
   "source": [
    "鸢尾花数据['类属'].value_counts().sort_index().plot.barh()\n",
    "plt.savefig('P131-1.png', dpi = 400, bbox_inches = 'tight')\n",
    "plt.show()"
   ]
  },
  {
   "cell_type": "code",
   "execution_count": null,
   "metadata": {},
   "outputs": [],
   "source": [
    "# 导入函数\n",
    "from pandas.plotting import scatter_matrix\n",
    "\n",
    "图形, 轴 = plt.subplots(figsize = (12, 12));\n",
    "scatter_matrix(鸢尾花数据, alpha = 1, ax = 轴);\n",
    "\n",
    "plt.show();"
   ]
  }
 ],
 "metadata": {
  "kernelspec": {
   "display_name": "Python 3",
   "language": "python",
   "name": "python3"
  },
  "language_info": {
   "codemirror_mode": {
    "name": "ipython",
    "version": 3
   },
   "file_extension": ".py",
   "mimetype": "text/x-python",
   "name": "python",
   "nbconvert_exporter": "python",
   "pygments_lexer": "ipython3",
   "version": "3.7.4"
  }
 },
 "nbformat": 4,
 "nbformat_minor": 4
}

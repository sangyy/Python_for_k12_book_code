{
 "cells": [
  {
   "cell_type": "code",
   "execution_count": null,
   "metadata": {},
   "outputs": [],
   "source": [
    "#--导入所需要的扩展包--\n",
    "%matplotlib inline\n",
    "import numpy as np\n",
    "import matplotlib.pyplot as plt\n",
    "import seaborn as sns\n",
    "import pandas as pd\n",
    "from IPython.display import Image"
   ]
  },
  {
   "cell_type": "code",
   "execution_count": null,
   "metadata": {},
   "outputs": [],
   "source": [
    "房屋数据 = pd.read_csv('house_train.csv')"
   ]
  },
  {
   "cell_type": "code",
   "execution_count": null,
   "metadata": {},
   "outputs": [],
   "source": [
    "房屋数据"
   ]
  },
  {
   "cell_type": "code",
   "execution_count": null,
   "metadata": {},
   "outputs": [],
   "source": [
    "房屋数据.shape"
   ]
  },
  {
   "cell_type": "code",
   "execution_count": null,
   "metadata": {},
   "outputs": [],
   "source": [
    "房屋数据.info()"
   ]
  },
  {
   "cell_type": "code",
   "execution_count": null,
   "metadata": {},
   "outputs": [],
   "source": [
    "# 定义需要保留的数值型变量和类属型变量的列表。\n",
    "数值型变量 = ['SalePrice','LotArea', 'OverallQual', 'OverallCond', \n",
    "             'YearBuilt', '1stFlrSF', '2ndFlrSF', 'BedroomAbvGr']\n",
    "\n",
    "类属型变量 = ['MSZoning', 'LotShape', 'Neighborhood', 'CentralAir', \n",
    "             'SaleCondition', 'MoSold', 'YrSold']"
   ]
  },
  {
   "cell_type": "code",
   "execution_count": null,
   "metadata": {},
   "outputs": [],
   "source": [
    "房屋数据 = 房屋数据[数值型变量 + 类属型变量]   # 只保留选定的数据列。"
   ]
  },
  {
   "cell_type": "code",
   "execution_count": null,
   "metadata": {},
   "outputs": [],
   "source": [
    "房屋数据.shape"
   ]
  },
  {
   "cell_type": "code",
   "execution_count": null,
   "metadata": {},
   "outputs": [],
   "source": [
    "# 关于销售价格（标签）的描述统计汇总\n",
    "房屋数据['SalePrice'].describe()"
   ]
  },
  {
   "cell_type": "code",
   "execution_count": null,
   "metadata": {},
   "outputs": [],
   "source": [
    "# 销售价格的直方图\n",
    "房屋数据['SalePrice'].hist(edgecolor = 'orange', bins = 10)"
   ]
  },
  {
   "cell_type": "code",
   "execution_count": null,
   "metadata": {},
   "outputs": [],
   "source": [
    "# 斜度与峰度\n",
    "print(\"斜度: {:0.3f}\".format(房屋数据['SalePrice'].skew()))\n",
    "print(\"峰度: {:0.3f}\".format(房屋数据['SalePrice'].kurt()))"
   ]
  },
  {
   "cell_type": "code",
   "execution_count": null,
   "metadata": {},
   "outputs": [],
   "source": [
    "# 显示所有数值变量的描述统计汇总\n",
    "房屋数据[数值型变量].describe()"
   ]
  },
  {
   "cell_type": "code",
   "execution_count": null,
   "metadata": {
    "scrolled": true
   },
   "outputs": [],
   "source": [
    "# 显示所有数值变量的条形图（未正规化的直方图）\n",
    "房屋数据[数值型变量].hist(edgecolor = 'orange', \n",
    "                        bins = 20, \n",
    "                        figsize = (14, 5), \n",
    "                        layout = (2, 4));"
   ]
  },
  {
   "cell_type": "code",
   "execution_count": null,
   "metadata": {},
   "outputs": [],
   "source": [
    "# 构造一个新变量Age\n",
    "房屋数据['Age'] = 房屋数据['YrSold'] - 房屋数据['YearBuilt']\n",
    "\n",
    "# 从数值型变量列表中删除变量YearBuilt\n",
    "数值型变量.remove('YearBuilt')\n",
    "\n",
    "# 在数值型变量列表中追加上新变量Age\n",
    "数值型变量.append('Age')"
   ]
  },
  {
   "cell_type": "code",
   "execution_count": null,
   "metadata": {},
   "outputs": [],
   "source": [
    "房屋数据[数值型变量].hist(edgecolor = 'orange', \n",
    "                         bins = 15, \n",
    "                         figsize = (14, 5), \n",
    "                         layout = (2,4));"
   ]
  },
  {
   "cell_type": "code",
   "execution_count": null,
   "metadata": {},
   "outputs": [],
   "source": [
    "# 绘制条形图\n",
    "房屋数据['SaleCondition'].value_counts().plot(kind = 'bar', \n",
    "                                             title = 'SaleCondition');"
   ]
  },
  {
   "cell_type": "code",
   "execution_count": null,
   "metadata": {},
   "outputs": [],
   "source": [
    "# 绘制各类属变量条形图，放置在一起方便对比。\n",
    "fig, ax = plt.subplots(2,4, figsize = (14,6))\n",
    "for var, subplot in zip(类属型变量, ax.flatten()):\n",
    "    房屋数据[var].value_counts().plot(kind = 'bar', \n",
    "                                     ax = subplot, \n",
    "                                     title = var)\n",
    "\n",
    "fig.tight_layout()"
   ]
  },
  {
   "cell_type": "code",
   "execution_count": null,
   "metadata": {},
   "outputs": [],
   "source": [
    "# 两个数值变量之间关系的散点图\n",
    "房屋数据.plot.scatter(x = '1stFlrSF', y = 'SalePrice');"
   ]
  },
  {
   "cell_type": "code",
   "execution_count": null,
   "metadata": {},
   "outputs": [],
   "source": [
    "# 将变量的分布叠加在散点图上\n",
    "sns.jointplot(x = '1stFlrSF', y = 'SalePrice', data = 房屋数据, joint_kws = {\"s\": 10});"
   ]
  },
  {
   "cell_type": "code",
   "execution_count": null,
   "metadata": {},
   "outputs": [],
   "source": [
    "# 数值变量的结对图\n",
    "sns.pairplot(房屋数据[数值型变量[:4]], plot_kws = {\"s\": 10});"
   ]
  },
  {
   "cell_type": "code",
   "execution_count": null,
   "metadata": {},
   "outputs": [],
   "source": [
    "# 另一种风格的结对图\n",
    "sns.pairplot(房屋数据[['SalePrice'] + 数值型变量[4:]], plot_kws = {\"s\": 10});"
   ]
  },
  {
   "cell_type": "code",
   "execution_count": null,
   "metadata": {},
   "outputs": [],
   "source": [
    "# 数值变量之间相关性\n",
    "房屋数据[数值型变量].corr()"
   ]
  },
  {
   "cell_type": "code",
   "execution_count": null,
   "metadata": {},
   "outputs": [],
   "source": [
    "# 变量按相关度降序排序\n",
    "房屋数据[数值型变量].corr()['SalePrice'].sort_values(ascending = False)"
   ]
  },
  {
   "cell_type": "code",
   "execution_count": null,
   "metadata": {},
   "outputs": [],
   "source": [
    "# 数值变量相关性的热图\n",
    "数值型变量相关性 = 房屋数据[数值型变量].corr()\n",
    "\n",
    "fig, ax = plt.subplots(figsize = (7,5))\n",
    "sns.heatmap(数值型变量相关性, ax = ax);"
   ]
  },
  {
   "cell_type": "code",
   "execution_count": null,
   "metadata": {},
   "outputs": [],
   "source": [
    "# 绘制一个变量的箱图\n",
    "sns.boxplot(x = 'CentralAir', y = 'SalePrice', data = 房屋数据);\n",
    "plt.savefig('P148-2.png', dpi = 400, bbox_inches = 'tight')"
   ]
  },
  {
   "cell_type": "code",
   "execution_count": null,
   "metadata": {},
   "outputs": [],
   "source": [
    "# 同时绘制所有类属变量的箱图\n",
    "fig, ax = plt.subplots(3,3, figsize = (14,9))\n",
    "for var, subplot in zip(类属型变量, ax.flatten()):\n",
    "    sns.boxplot(x = var, y = 'SalePrice', data = 房屋数据, ax = subplot)\n",
    "\n",
    "fig.tight_layout()"
   ]
  },
  {
   "cell_type": "code",
   "execution_count": null,
   "metadata": {},
   "outputs": [],
   "source": [
    "# 按众数排序\n",
    "分组排序数据 = 房屋数据.groupby('Neighborhood')['SalePrice'].median().sort_values().index.values\n",
    "\n",
    "# 重画箱图\n",
    "fig, ax = plt.subplots(figsize = (14,4))\n",
    "\n",
    "sns.boxplot(x = 'Neighborhood', \n",
    "            y = 'SalePrice', \n",
    "            data = 房屋数据, \n",
    "            order = 分组排序数据, \n",
    "            ax = ax)\n",
    "\n",
    "plt.xticks(rotation = 'vertical');"
   ]
  },
  {
   "cell_type": "code",
   "execution_count": null,
   "metadata": {},
   "outputs": [],
   "source": [
    "# 导入PyTorch包\n",
    "from __future__ import print_function\n",
    "import torch"
   ]
  },
  {
   "cell_type": "code",
   "execution_count": null,
   "metadata": {},
   "outputs": [],
   "source": [
    "import torch\n",
    "import numpy as np\n",
    "\n",
    "x = torch.tensor([[1,2,3], [4,5,6]])\n",
    "y = torch.tensor([[7,8,9], [10,11,12]])\n",
    "f = 2*x + y\n",
    "\n",
    "print(f)"
   ]
  },
  {
   "cell_type": "code",
   "execution_count": null,
   "metadata": {},
   "outputs": [],
   "source": [
    "形状 = [2, 3]\n",
    "\n",
    "全零张量 = torch.zeros(形状)\n",
    "全一张量 = torch.ones(形状)\n",
    "随机张量 = torch.rand(形状)\n",
    "\n",
    "print(全零张量)\n",
    "print(全一张量)\n",
    "print(随机张量)"
   ]
  },
  {
   "cell_type": "code",
   "execution_count": null,
   "metadata": {},
   "outputs": [],
   "source": [
    "torch.manual_seed(42)    # 指定随机种子。\n",
    "\n",
    "print(随机张量)           # 再次运行产生相同的张量。"
   ]
  },
  {
   "cell_type": "code",
   "execution_count": null,
   "metadata": {},
   "outputs": [],
   "source": [
    "import numpy as np\n",
    "\n",
    "原始NumPy数组 = np.array([[1,2,3], [4,5,6]])\n",
    "\n",
    "转成PyTorch张量 = torch.from_numpy(原始NumPy数组)    # 将数组转换为张量\n",
    "\n",
    "print(转成PyTorch张量)\n",
    "\n",
    "转成PyTorch张量.type()                              # 使用PyTorch内建方法type()来检查张量的类型。"
   ]
  },
  {
   "cell_type": "code",
   "execution_count": null,
   "metadata": {},
   "outputs": [],
   "source": [
    "还原的NumPy数组 = 转成PyTorch张量.numpy()  # 将张量转换为数组\n",
    "\n",
    "type(还原的NumPy数组)                     # 使用Python内建函数type()检查类型。"
   ]
  },
  {
   "cell_type": "code",
   "execution_count": null,
   "metadata": {},
   "outputs": [],
   "source": [
    "还原的NumPy数组 == 原始NumPy数组"
   ]
  },
  {
   "cell_type": "code",
   "execution_count": null,
   "metadata": {},
   "outputs": [],
   "source": [
    "print(x[0])       # 索引x的第0行\n",
    "\n",
    "print(x[1][0:2])  # 索引x的第1行、第0，1列的交叉部分。"
   ]
  },
  {
   "cell_type": "code",
   "execution_count": null,
   "metadata": {},
   "outputs": [],
   "source": [
    "print(x.size())       # 获取张量的“尺寸”。\n",
    "\n",
    "print(x.view(-1))     # 将x摊平为一维张量。\n",
    "\n",
    "print(x.view(3, 2))   # 将x重塑为二维3x2张量。\n",
    "\n",
    "print(x.view(6, 1))   # 将x重塑为二维6x1张量。"
   ]
  },
  {
   "cell_type": "code",
   "execution_count": null,
   "metadata": {},
   "outputs": [],
   "source": [
    "print(x.view(3,-1))   # 仅指定行数，-1表示自动计算列数。"
   ]
  },
  {
   "cell_type": "code",
   "execution_count": null,
   "metadata": {},
   "outputs": [],
   "source": [
    "x.transpose(0, 1).size()  # 交换轴（行列互换、转置）运算。"
   ]
  },
  {
   "cell_type": "code",
   "execution_count": null,
   "metadata": {},
   "outputs": [],
   "source": [
    "a = torch.ones(1, 2, 3, 4)           # 定义一个4维的张量。\n",
    "\n",
    "print(a.transpose(0, 3).transpose(1, 2).size())    # 两步内交换所有的轴。\n",
    "print(a.permute(3, 2, 1, 0).size())                # 一次交换所有的轴。"
   ]
  },
  {
   "cell_type": "code",
   "execution_count": null,
   "metadata": {},
   "outputs": [],
   "source": [
    "import torch\n",
    "import torchvision\n",
    "import torchvision.transforms as transforms\n",
    "\n",
    "CIFAR10训练集 = torchvision.datasets.CIFAR10(root = './data',           # 数据根目录 \n",
    "                                     download = True,                   # 检查数据是否已经下载\n",
    "                                     transform = transforms.ToTensor()  # 变换为张量\n",
    "                                     )                                  \n",
    "CIFAR10训练集"
   ]
  },
  {
   "cell_type": "code",
   "execution_count": null,
   "metadata": {},
   "outputs": [],
   "source": [
    "for i in range(len(CIFAR10训练集)):\n",
    "    print('图像尺寸：{}；类属标签：{}'.format(CIFAR10训练集[i][0].size() , CIFAR10训练集[i][1]))\n",
    "    if i >= 10: break"
   ]
  },
  {
   "cell_type": "code",
   "execution_count": null,
   "metadata": {},
   "outputs": [],
   "source": [
    "#--显示CIFAR10训练集中的图像--\n",
    "%matplotlib inline\n",
    "import matplotlib.pyplot as plt\n",
    "\n",
    "选定的Torch图像 = CIFAR10训练集[0][0]               # 索引第一个元组的第一个元素。\n",
    "变换的NumPy图像 = 选定的Torch图像.permute(1, 2, 0)  # 将轴(C,H,W)置换为(H,W,C)。\n",
    "\n",
    "plt.imshow(变换的NumPy图像);                        # 显示图像。\n",
    "\n",
    "print(CIFAR10训练集[0][1])                         # 显示图像标签。"
   ]
  },
  {
   "cell_type": "code",
   "execution_count": null,
   "metadata": {},
   "outputs": [],
   "source": [
    "分批装载训练集 = torch.utils.data.DataLoader(CIFAR10训练集, \n",
    "                                            batch_size = 4,    # 批次大小。\n",
    "                                            shuffle = True     # 是否打乱次序。\n",
    "                                           )\n",
    "\n",
    "数据迭代器 = iter(分批装载训练集)     # 从DataLoader对象创建一个迭代器。\n",
    "\n",
    "图像, 标签 = 数据迭代器.next()       # 为批次中的图像和标签构建张量。\n",
    "\n",
    "print(标签[0:])                     # 显示一个批次中图像的标签。\n",
    "print(图像.size())                  # 显示批次张量的大小。 "
   ]
  },
  {
   "cell_type": "code",
   "execution_count": null,
   "metadata": {},
   "outputs": [],
   "source": [
    "%matplotlib inline\n",
    "import numpy as np\n",
    "import matplotlib.pylab as plt"
   ]
  },
  {
   "cell_type": "code",
   "execution_count": null,
   "metadata": {},
   "outputs": [],
   "source": [
    "#--阶跃函数的一种NumPy实现。--\n",
    "def step_function(x):\n",
    "    return np.array(x > 0, dtype = np.int)"
   ]
  },
  {
   "cell_type": "code",
   "execution_count": null,
   "metadata": {},
   "outputs": [],
   "source": [
    "import numpy as np\n",
    "def sigmoid(x):\n",
    "    return 1 / (1 + np.exp(-x))                                                             "
   ]
  },
  {
   "cell_type": "code",
   "execution_count": null,
   "metadata": {},
   "outputs": [],
   "source": [
    "def relu(x):\n",
    "    return np.maximum(0, x)"
   ]
  },
  {
   "cell_type": "code",
   "execution_count": null,
   "metadata": {},
   "outputs": [],
   "source": [
    "def softmax(x):\n",
    "    return np.exp(x)/np.sum(np.exp(x))"
   ]
  },
  {
   "cell_type": "code",
   "execution_count": null,
   "metadata": {},
   "outputs": [],
   "source": [
    "#--各种激活函数的比较--\n",
    "import numpy as np\n",
    "import matplotlib.pylab as plt\n",
    "import matplotlib.font_manager as fm\n",
    "\n",
    "# 使用中文字体替换默认字体\n",
    "myfont = fm.FontProperties(fname = r'C:\\Windows\\Fonts\\simsun.ttc')                          \n",
    "\n",
    "x = np.arange(-2, 2, 0.2)\n",
    "y1 = sigmoid(x)\n",
    "y2 = step_function(x)\n",
    "y3 = relu(x)\n",
    "y4 = 0.5 * (np.tanh(x) + 1)            # 适当缩放以匹配其它函数的取值范围。\n",
    "y5 = softmax(x)\n",
    "plt.plot(x, y1, label = 'S-形函数')\n",
    "plt.plot(x, y2, linestyle = '--', label = '阶跃函数')\n",
    "plt.plot(x, y3, linestyle = '-.', label = 'ReLU函数')\n",
    "plt.plot(x, y4, linestyle = ':', label = '双曲正切')\n",
    "plt.plot(x, y5, linestyle = 'dashed', label = 'Softmax函数')\n",
    "plt.ylim(-0.2, 1.2)\n",
    "\n",
    "plt.xlabel(\"x\")                                                      # x轴标签\n",
    "plt.ylabel(\"y\")                                                      # y轴标签\n",
    "plt.title('各种激活函数的对比', fontproperties = myfont,fontsize = 12) # 显示标题\n",
    "plt.legend(loc = 'upper left', prop = myfont)                        # 显示图例\n",
    "\n",
    "plt.savefig('Activation_Fig.png', dpi = 400, bbox_inches = 'tight')  # 保存图像\n",
    "plt.show()"
   ]
  },
  {
   "cell_type": "code",
   "execution_count": null,
   "metadata": {},
   "outputs": [],
   "source": [
    "import torch\n",
    "import torchvision\n",
    "import torchvision.transforms as transforms"
   ]
  },
  {
   "cell_type": "code",
   "execution_count": null,
   "metadata": {
    "scrolled": true
   },
   "outputs": [],
   "source": [
    "正规变换 = transforms.Compose([transforms.ToTensor(),\n",
    "                              transforms.Normalize((0.5, 0.5, 0.5), \n",
    "                                                   (0.5, 0.5, 0.5))])\n",
    "\n",
    "训练集 = torchvision.datasets.CIFAR10(root = './data', \n",
    "                                     train = True,\n",
    "                                     download = True, \n",
    "                                     transform = 正规变换)\n",
    "\n",
    "训练集装载器 = torch.utils.data.DataLoader(训练集, \n",
    "                                          batch_size = 4,\n",
    "                                          shuffle = True, \n",
    "                                          num_workers = 2)\n",
    "\n",
    "测试集 = torchvision.datasets.CIFAR10(root = './data', \n",
    "                                     train = False,\n",
    "                                     download = True, \n",
    "                                     transform = 正规变换)\n",
    "\n",
    "测试集装载器 = torch.utils.data.DataLoader(测试集, \n",
    "                                          batch_size = 4,\n",
    "                                          shuffle = False, \n",
    "                                          num_workers = 2)\n",
    "\n",
    "图像类别 = ('飞机', '轿车', '鸟', '猫', '鹿', '狗', '青蛙', '马', '船', '卡车')"
   ]
  },
  {
   "cell_type": "code",
   "execution_count": null,
   "metadata": {},
   "outputs": [],
   "source": [
    "import torch.nn as nn\n",
    "import torch.nn.functional as F\n",
    "\n",
    "class Net(nn.Module):\n",
    "    def __init__(self):\n",
    "        super(Net, self).__init__()\n",
    "        self.conv1 = nn.Conv2d(3, 6, 5)\n",
    "        self.pool = nn.MaxPool2d(2, 2)\n",
    "        self.conv2 = nn.Conv2d(6, 16, 5)\n",
    "        self.fc1 = nn.Linear(16 * 5 * 5, 120)\n",
    "        self.fc2 = nn.Linear(120, 84)\n",
    "        self.fc3 = nn.Linear(84, 10)\n",
    "\n",
    "    def forward(self, x):\n",
    "        x = self.pool(F.relu(self.conv1(x)))\n",
    "        x = self.pool(F.relu(self.conv2(x)))\n",
    "        x = x.view(-1, 16 * 5 * 5)\n",
    "        x = F.relu(self.fc1(x))\n",
    "        x = F.relu(self.fc2(x))\n",
    "        x = self.fc3(x)\n",
    "        return x\n",
    "\n",
    "net = Net()"
   ]
  },
  {
   "cell_type": "code",
   "execution_count": null,
   "metadata": {},
   "outputs": [],
   "source": [
    "import torch.optim as optim\n",
    "\n",
    "损失函数 = nn.CrossEntropyLoss()\n",
    "优化算法 = optim.SGD(net.parameters(),     # 获取网络参数\n",
    "                    lr = 0.001,           # 预置学习率 \n",
    "                    momentum = 0.9        # 动量参数值\n",
    "                    )"
   ]
  },
  {
   "cell_type": "code",
   "execution_count": null,
   "metadata": {
    "scrolled": true
   },
   "outputs": [],
   "source": [
    "for epoch in range(2):      # 在数据集上循环（二代）\n",
    "\n",
    "    累计损失值 = 0.0         # 累计损失值初始化\n",
    "    for i, data in enumerate(训练集装载器, 0):\n",
    "        \n",
    "        # 获取输入\n",
    "        输入数据, 实际标签 = data\n",
    "\n",
    "        # 参数的梯度张量清零\n",
    "        优化算法.zero_grad()\n",
    "\n",
    "        # 前向传播 + 反向传播 + 优化\n",
    "        输出数据 = net(输入数据)\n",
    "        损失值 = 损失函数(输出数据, 实际标签)\n",
    "        损失值.backward()\n",
    "        优化算法.step()\n",
    "\n",
    "        # 显示统计信息\n",
    "        累计损失值 += 损失值.item()\n",
    "        if i % 2000 == 1999:                # 2000小批次显示一次。\n",
    "            print('[%d, %5d] 损失函数: %.3f' %\n",
    "                  (epoch + 1, i + 1, 累计损失值 / 2000))\n",
    "            累计损失值 = 0.0\n",
    "\n",
    "print('训练完成！')"
   ]
  },
  {
   "cell_type": "code",
   "execution_count": null,
   "metadata": {},
   "outputs": [],
   "source": [
    "%matplotlib inline\n",
    "import matplotlib.pyplot as plt\n",
    "import numpy as np\n",
    "\n",
    "# 定义显示图像的函数\n",
    "def imshow(img):\n",
    "    img = img / 2 + 0.5     # 去正规化。\n",
    "    npimg = img.numpy()\n",
    "    plt.imshow(np.transpose(npimg, (1, 2, 0)))\n",
    "    plt.show()"
   ]
  },
  {
   "cell_type": "code",
   "execution_count": null,
   "metadata": {},
   "outputs": [],
   "source": [
    "数据迭代器 = iter(测试集装载器)\n",
    "测试图像, 实际标签 = 数据迭代器.next()\n",
    "\n",
    "# 显示图像\n",
    "imshow(torchvision.utils.make_grid(测试图像))\n",
    "print('实际标签：', ' '.join('%5s' % 图像类别[实际标签[j]] for j in range(4)))"
   ]
  },
  {
   "cell_type": "code",
   "execution_count": null,
   "metadata": {},
   "outputs": [],
   "source": [
    "输出图像 = net(测试图像)"
   ]
  },
  {
   "cell_type": "code",
   "execution_count": null,
   "metadata": {},
   "outputs": [],
   "source": [
    "_, 预测的标签 = torch.max(输出图像, 1)\n",
    "\n",
    "print('预测的标签：', ' '.join('%5s' % 图像类别[预测的标签[j]] for j in range(4)))"
   ]
  },
  {
   "cell_type": "code",
   "execution_count": null,
   "metadata": {},
   "outputs": [],
   "source": [
    "预测正确数 = 0\n",
    "图像总数 = 0\n",
    "with torch.no_grad():\n",
    "    for data in 测试集装载器:\n",
    "        测试图像, 实际标签 = data\n",
    "        输出图像 = net(测试图像)\n",
    "        _, 预测标签 = torch.max(输出图像.data, 1)\n",
    "        图像总数 += 实际标签.size(0)\n",
    "        预测正确数 += (预测标签 == 实际标签).sum().item()\n",
    "\n",
    "print('网络在10000幅图像上预测的准确率：%d %%' % (100 * 预测正确数 / 图像总数))"
   ]
  },
  {
   "cell_type": "code",
   "execution_count": null,
   "metadata": {},
   "outputs": [],
   "source": [
    "预测正确的类 = list(0. for i in range(10))\n",
    "图像总的类别 = list(0. for i in range(10))\n",
    "with torch.no_grad():\n",
    "    for data in 测试集装载器:\n",
    "        测试图像, 实际标签 = data\n",
    "        输出图像 = net(测试图像)\n",
    "        _, 预测标签 = torch.max(输出图像, 1)\n",
    "        c = (预测标签 == 实际标签).squeeze()\n",
    "        for i in range(4):\n",
    "            标签 = 实际标签[i]\n",
    "            预测正确的类[标签] += c[i].item()\n",
    "            图像总的类别[标签] += 1\n",
    "\n",
    "for i in range(10):\n",
    "    print('%5s 的预测准确率：%2d %%' % (图像类别[i], 100 * 预测正确的类[i] / 图像总的类别[i]))"
   ]
  }
 ],
 "metadata": {
  "kernelspec": {
   "display_name": "Python 3",
   "language": "python",
   "name": "python3"
  },
  "language_info": {
   "codemirror_mode": {
    "name": "ipython",
    "version": 3
   },
   "file_extension": ".py",
   "mimetype": "text/x-python",
   "name": "python",
   "nbconvert_exporter": "python",
   "pygments_lexer": "ipython3",
   "version": "3.7.4"
  }
 },
 "nbformat": 4,
 "nbformat_minor": 4
}

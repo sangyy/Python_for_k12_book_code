{
 "cells": [
  {
   "cell_type": "code",
   "execution_count": 12,
   "metadata": {},
   "outputs": [],
   "source": [
    "# 导入numpy，别名为np。\n",
    "import numpy as np"
   ]
  },
  {
   "cell_type": "code",
   "execution_count": 13,
   "metadata": {},
   "outputs": [
    {
     "name": "stdout",
     "output_type": "stream",
     "text": [
      "[0 1 2 3 4 5 6 7 8 9]\n"
     ]
    }
   ],
   "source": [
    "整数范围数组 = np.arange(10)        # 创建从0到10（不包括10）的一个范围数组\n",
    "print(整数范围数组) "
   ]
  },
  {
   "cell_type": "code",
   "execution_count": 18,
   "metadata": {},
   "outputs": [
    {
     "name": "stdout",
     "output_type": "stream",
     "text": [
      "[0 2 4 6 8]\n"
     ]
    }
   ],
   "source": [
    "# 创建从0到10（不包括10）的整数范围，步长为2。\n",
    "带步长的整数范围数组 = np.arange(start = 0, stop = 10, step = 2, dtype = 'int') \n",
    "\n",
    "print(带步长的整数范围数组) "
   ]
  },
  {
   "cell_type": "code",
   "execution_count": 8,
   "metadata": {},
   "outputs": [
    {
     "name": "stdout",
     "output_type": "stream",
     "text": [
      "[0.  0.5 1.  1.5 2.  2.5 3.  3.5 4.  4.5 5.  5.5 6.  6.5 7.  7.5 8.  8.5\n",
      " 9.  9.5]\n"
     ]
    }
   ],
   "source": [
    "# 创建从0到10的一个浮点数范围，步长为0.5。\n",
    "带步长的浮点数范围数组 = np.arange(0, 10, 0.5) \n",
    "print(带步长的浮点数范围数组) "
   ]
  },
  {
   "cell_type": "code",
   "execution_count": 19,
   "metadata": {},
   "outputs": [
    {
     "name": "stdout",
     "output_type": "stream",
     "text": [
      "1\n",
      "(10,)\n",
      "10\n"
     ]
    }
   ],
   "source": [
    "print(整数范围数组.ndim), print(整数范围数组.shape), print(整数范围数组.size);"
   ]
  },
  {
   "cell_type": "code",
   "execution_count": 9,
   "metadata": {},
   "outputs": [
    {
     "name": "stdout",
     "output_type": "stream",
     "text": [
      "[0. 0. 0. 0. 0.]\n",
      "(5,)\n"
     ]
    }
   ],
   "source": [
    "一维全零数组 = np.zeros(5)          # 创建一个都是0的数组。\n",
    "\n",
    "print(一维全零数组)\n",
    "print(一维全零数组.shape)"
   ]
  },
  {
   "cell_type": "code",
   "execution_count": 13,
   "metadata": {},
   "outputs": [
    {
     "name": "stdout",
     "output_type": "stream",
     "text": [
      "[[0. 0. 0.]\n",
      " [0. 0. 0.]]\n",
      "(2, 3)\n"
     ]
    }
   ],
   "source": [
    "二维全零数组 = np.zeros((2,3))      # 创建一个都是0的2行、3列二维数组。\n",
    "\n",
    "print(二维全零数组), print(二维全零数组.shape);"
   ]
  },
  {
   "cell_type": "code",
   "execution_count": 14,
   "metadata": {},
   "outputs": [
    {
     "name": "stdout",
     "output_type": "stream",
     "text": [
      "[[8 8 8]\n",
      " [8 8 8]]\n"
     ]
    }
   ],
   "source": [
    "填满一个数的数组 = np.full((2, 3), 8)    # 用8填满一个形状为(2, 3)的数组。\n",
    "print(填满一个数的数组)"
   ]
  },
  {
   "cell_type": "code",
   "execution_count": 3,
   "metadata": {},
   "outputs": [
    {
     "name": "stdout",
     "output_type": "stream",
     "text": [
      "[[1. 0. 0. 0.]\n",
      " [0. 1. 0. 0.]\n",
      " [0. 0. 1. 0.]\n",
      " [0. 0. 0. 1.]]\n"
     ]
    }
   ],
   "source": [
    "四阶单位矩阵 = np.eye(4)            # 创建一个4x4的单位矩阵。\n",
    "print(四阶单位矩阵)"
   ]
  },
  {
   "cell_type": "code",
   "execution_count": 14,
   "metadata": {},
   "outputs": [
    {
     "name": "stdout",
     "output_type": "stream",
     "text": [
      "[[1 0 0 0]\n",
      " [0 1 0 0]\n",
      " [0 0 1 0]\n",
      " [0 0 0 1]]\n"
     ]
    }
   ],
   "source": [
    "四阶整型单位矩阵 = np.eye(4, dtype = 'int')   # 创建一个4x4的整数型单位矩阵。\n",
    "print(四阶整型单位矩阵)"
   ]
  },
  {
   "cell_type": "code",
   "execution_count": 4,
   "metadata": {},
   "outputs": [
    {
     "name": "stdout",
     "output_type": "stream",
     "text": [
      "[[0.28163028 0.2955566  0.34532784 0.80386192]\n",
      " [0.67077075 0.6617618  0.52139717 0.85194722]]\n"
     ]
    }
   ],
   "source": [
    "随机数数组 = np.random.random((2, 4)) # 带有随机值（在范围[0.0, 1.0)内）的2行4列数组。\n",
    "print(随机数数组)"
   ]
  },
  {
   "cell_type": "code",
   "execution_count": 21,
   "metadata": {},
   "outputs": [
    {
     "name": "stdout",
     "output_type": "stream",
     "text": [
      "2\n",
      "(4, 5)\n",
      "20\n"
     ]
    }
   ],
   "source": [
    "一个Python列表 = [[1, 2, 3, 4, 5], \n",
    "                 [2, 3, 4, 5, 6],\n",
    "                 [3, 2, 1, 6, 5],\n",
    "                 [5, 6, 4, 3, 1]]\n",
    "\n",
    "转换的NumPy数组 = np.array(一个Python列表)\n",
    "\n",
    "print(转换的NumPy数组.ndim)\n",
    "print(转换的NumPy数组.shape)\n",
    "print(转换的NumPy数组.size)"
   ]
  },
  {
   "cell_type": "code",
   "execution_count": 7,
   "metadata": {},
   "outputs": [
    {
     "name": "stdout",
     "output_type": "stream",
     "text": [
      "1\n",
      "2\n"
     ]
    }
   ],
   "source": [
    "print(转换的NumPy数组[0])\n",
    "print(转换的NumPy数组[1])"
   ]
  },
  {
   "cell_type": "code",
   "execution_count": 8,
   "metadata": {},
   "outputs": [
    {
     "name": "stdout",
     "output_type": "stream",
     "text": [
      "5\n",
      "4\n"
     ]
    }
   ],
   "source": [
    "print(转换的NumPy数组[-1])\n",
    "print(转换的NumPy数组[-2])"
   ]
  },
  {
   "cell_type": "code",
   "execution_count": 9,
   "metadata": {},
   "outputs": [
    {
     "name": "stdout",
     "output_type": "stream",
     "text": [
      "[[1 2 3 4 5]\n",
      " [6 7 8 9 0]]\n",
      "(2, 5)\n",
      "1\n",
      "2\n",
      "6\n"
     ]
    }
   ],
   "source": [
    "第二个Python列表 = [6,7,8,9,0]\n",
    "转换的二维NumPy数组 = np.array([一个Python列表, 第二个Python列表])\n",
    "\n",
    "print(转换的二维NumPy数组)\n",
    "print(转换的二维NumPy数组.shape)\n",
    "\n",
    "print(转换的二维NumPy数组[0,0])\n",
    "print(转换的二维NumPy数组[0,1])\n",
    "print(转换的二维NumPy数组[1,0])"
   ]
  },
  {
   "cell_type": "code",
   "execution_count": 13,
   "metadata": {},
   "outputs": [
    {
     "name": "stdout",
     "output_type": "stream",
     "text": [
      "[3 5]\n"
     ]
    }
   ],
   "source": [
    "print(转换的NumPy数组[[2, 4]])"
   ]
  },
  {
   "cell_type": "code",
   "execution_count": 15,
   "metadata": {},
   "outputs": [
    {
     "name": "stdout",
     "output_type": "stream",
     "text": [
      "[2 9]\n"
     ]
    }
   ],
   "source": [
    "print(转换的二维NumPy数组[[0, 1], [1, 3]])"
   ]
  },
  {
   "cell_type": "code",
   "execution_count": 13,
   "metadata": {},
   "outputs": [
    {
     "name": "stdout",
     "output_type": "stream",
     "text": [
      "[False False  True  True  True]\n"
     ]
    }
   ],
   "source": [
    "print(转换的NumPy数组 > 2)     # 返回数组中所有大于2的元素位置。"
   ]
  },
  {
   "cell_type": "code",
   "execution_count": 16,
   "metadata": {},
   "outputs": [
    {
     "name": "stdout",
     "output_type": "stream",
     "text": [
      "[3 4 5]\n"
     ]
    }
   ],
   "source": [
    "print(转换的NumPy数组[转换的NumPy数组 > 2])"
   ]
  },
  {
   "cell_type": "code",
   "execution_count": 17,
   "metadata": {},
   "outputs": [
    {
     "name": "stdout",
     "output_type": "stream",
     "text": [
      "[ 0  1  2  3  4  5  6  7  8  9 10 11 12 13 14 15 16 17 18 19]\n"
     ]
    }
   ],
   "source": [
    "一个整数范围的数组 = np.arange(20)\n",
    "print(一个整数范围的数组)"
   ]
  },
  {
   "cell_type": "code",
   "execution_count": 18,
   "metadata": {},
   "outputs": [
    {
     "name": "stdout",
     "output_type": "stream",
     "text": [
      "[ 1  3  5  7  9 11 13 15 17 19]\n"
     ]
    }
   ],
   "source": [
    "数组中的奇数 = 一个整数范围的数组[一个整数范围的数组 % 2 == 1]\n",
    "print(数组中的奇数)"
   ]
  },
  {
   "cell_type": "code",
   "execution_count": 19,
   "metadata": {},
   "outputs": [
    {
     "name": "stdout",
     "output_type": "stream",
     "text": [
      "[[1 2 3 4 5]\n",
      " [4 5 6 7 8]\n",
      " [9 8 7 6 5]]\n"
     ]
    }
   ],
   "source": [
    "一个二维NumPy数组 = np.array([[1, 2, 3, 4, 5],\n",
    "                             [4, 5, 6, 7, 8],\n",
    "                             [9, 8, 7, 6, 5]])\n",
    "print(一个二维NumPy数组)"
   ]
  },
  {
   "cell_type": "code",
   "execution_count": 20,
   "metadata": {},
   "outputs": [
    {
     "name": "stdout",
     "output_type": "stream",
     "text": [
      "[[4 5 6]\n",
      " [9 8 7]]\n"
     ]
    }
   ],
   "source": [
    "第一个切片 = 一个二维NumPy数组[1:3, :3]\n",
    "print(第一个切片)"
   ]
  },
  {
   "cell_type": "code",
   "execution_count": 21,
   "metadata": {},
   "outputs": [
    {
     "name": "stdout",
     "output_type": "stream",
     "text": [
      "[[7 8]\n",
      " [6 5]]\n"
     ]
    }
   ],
   "source": [
    "第二个切片 = 一个二维NumPy数组[-2:,-2:]\n",
    "print(第二个切片)"
   ]
  },
  {
   "cell_type": "code",
   "execution_count": 24,
   "metadata": {},
   "outputs": [
    {
     "name": "stdout",
     "output_type": "stream",
     "text": [
      "[[1 2 3 4]\n",
      " [4 5 6 7]\n",
      " [9 8 7 6]]\n",
      "(3, 4)\n"
     ]
    }
   ],
   "source": [
    "原始二维数组 = np.array([[1, 2, 3, 4],\n",
    "                        [4, 5, 6, 7],\n",
    "                        [9, 8, 7, 6]])\n",
    "\n",
    "print(原始二维数组)\n",
    "print(原始二维数组.shape)"
   ]
  },
  {
   "cell_type": "code",
   "execution_count": 26,
   "metadata": {},
   "outputs": [
    {
     "name": "stdout",
     "output_type": "stream",
     "text": [
      "[[1 2 3]\n",
      " [4 4 5]\n",
      " [6 7 9]\n",
      " [8 7 6]]\n"
     ]
    }
   ],
   "source": [
    "重塑后的二维数组 = 原始二维数组.reshape(4, 3)\n",
    "print(重塑后的二维数组)"
   ]
  },
  {
   "cell_type": "code",
   "execution_count": 28,
   "metadata": {},
   "outputs": [
    {
     "name": "stdout",
     "output_type": "stream",
     "text": [
      "[[1 2 3]\n",
      " [4 4 5]\n",
      " [6 7 9]\n",
      " [8 7 6]]\n"
     ]
    }
   ],
   "source": [
    "自动确定列数的重塑数组 = 原始二维数组.reshape(4, -1)\n",
    "\n",
    "print(自动确定列数的重塑数组)"
   ]
  },
  {
   "cell_type": "code",
   "execution_count": 29,
   "metadata": {},
   "outputs": [
    {
     "name": "stdout",
     "output_type": "stream",
     "text": [
      "[[1 2 3 4 4 5]\n",
      " [6 7 9 8 7 6]]\n"
     ]
    }
   ],
   "source": [
    "自动确定行数的重塑数组 = 原始二维数组.reshape(-1, 6)\n",
    "\n",
    "print(自动确定行数的重塑数组)"
   ]
  },
  {
   "cell_type": "code",
   "execution_count": 30,
   "metadata": {},
   "outputs": [
    {
     "ename": "ValueError",
     "evalue": "can only specify one unknown dimension",
     "output_type": "error",
     "traceback": [
      "\u001b[1;31m---------------------------------------------------------------------------\u001b[0m",
      "\u001b[1;31mValueError\u001b[0m                                Traceback (most recent call last)",
      "\u001b[1;32m<ipython-input-30-8ded073235a2>\u001b[0m in \u001b[0;36m<module>\u001b[1;34m\u001b[0m\n\u001b[1;32m----> 1\u001b[1;33m \u001b[0m自动确定形状的重塑数组\u001b[0m \u001b[1;33m=\u001b[0m \u001b[0m原始二维数组\u001b[0m\u001b[1;33m.\u001b[0m\u001b[0mreshape\u001b[0m\u001b[1;33m(\u001b[0m\u001b[1;33m-\u001b[0m\u001b[1;36m1\u001b[0m\u001b[1;33m,\u001b[0m \u001b[1;33m-\u001b[0m\u001b[1;36m1\u001b[0m\u001b[1;33m)\u001b[0m\u001b[1;33m\u001b[0m\u001b[1;33m\u001b[0m\u001b[0m\n\u001b[0m\u001b[0;32m      2\u001b[0m \u001b[1;33m\u001b[0m\u001b[0m\n\u001b[0;32m      3\u001b[0m \u001b[0mprint\u001b[0m\u001b[1;33m(\u001b[0m\u001b[0m自动确定形状的重塑数组\u001b[0m\u001b[1;33m)\u001b[0m\u001b[1;33m\u001b[0m\u001b[1;33m\u001b[0m\u001b[0m\n",
      "\u001b[1;31mValueError\u001b[0m: can only specify one unknown dimension"
     ]
    }
   ],
   "source": [
    "自动确定形状的重塑数组 = 原始二维数组.reshape(-1, -1)\n",
    "\n",
    "print(自动确定形状的重塑数组)"
   ]
  },
  {
   "cell_type": "code",
   "execution_count": 31,
   "metadata": {},
   "outputs": [
    {
     "ename": "ValueError",
     "evalue": "cannot reshape array of size 12 into shape (3,5)",
     "output_type": "error",
     "traceback": [
      "\u001b[1;31m---------------------------------------------------------------------------\u001b[0m",
      "\u001b[1;31mValueError\u001b[0m                                Traceback (most recent call last)",
      "\u001b[1;32m<ipython-input-31-564847e208f6>\u001b[0m in \u001b[0;36m<module>\u001b[1;34m\u001b[0m\n\u001b[1;32m----> 1\u001b[1;33m \u001b[0m指定形状的重塑数组\u001b[0m \u001b[1;33m=\u001b[0m \u001b[0m原始二维数组\u001b[0m\u001b[1;33m.\u001b[0m\u001b[0mreshape\u001b[0m\u001b[1;33m(\u001b[0m\u001b[1;36m3\u001b[0m\u001b[1;33m,\u001b[0m \u001b[1;36m5\u001b[0m\u001b[1;33m)\u001b[0m\u001b[1;33m\u001b[0m\u001b[1;33m\u001b[0m\u001b[0m\n\u001b[0m\u001b[0;32m      2\u001b[0m \u001b[1;33m\u001b[0m\u001b[0m\n\u001b[0;32m      3\u001b[0m \u001b[0mprint\u001b[0m\u001b[1;33m(\u001b[0m\u001b[0m指定形状的重塑数组\u001b[0m\u001b[1;33m)\u001b[0m\u001b[1;33m\u001b[0m\u001b[1;33m\u001b[0m\u001b[0m\n",
      "\u001b[1;31mValueError\u001b[0m: cannot reshape array of size 12 into shape (3,5)"
     ]
    }
   ],
   "source": [
    "指定形状的重塑数组 = 原始二维数组.reshape(3, 5)\n",
    "\n",
    "print(指定形状的重塑数组)"
   ]
  },
  {
   "cell_type": "code",
   "execution_count": 22,
   "metadata": {},
   "outputs": [],
   "source": [
    "# 创建二个Python列表\n",
    "距离列表 = [100, 115, 117, 206, 120]\n",
    "时间列表 = [1.3, 1.27, 3.58, 9.20, 8.0]\n",
    "\n",
    "距离数组 = np.array(距离列表)\n",
    "时间数组 = np.array(时间列表)"
   ]
  },
  {
   "cell_type": "code",
   "execution_count": 25,
   "metadata": {},
   "outputs": [
    {
     "data": {
      "text/plain": [
       "array([76.92307692, 90.5511811 , 32.68156425, 22.39130435, 15.        ])"
      ]
     },
     "execution_count": 25,
     "metadata": {},
     "output_type": "execute_result"
    }
   ],
   "source": [
    "速度数组 = 距离数组/时间数组\n",
    "速度数组    # print(速度数组)输出为列表形式"
   ]
  },
  {
   "cell_type": "code",
   "execution_count": 26,
   "metadata": {},
   "outputs": [
    {
     "data": {
      "text/plain": [
       "array([-0.50636564,  0.94543533, -0.68969794, -0.9746419 ,  0.58061118])"
      ]
     },
     "execution_count": 26,
     "metadata": {},
     "output_type": "execute_result"
    }
   ],
   "source": [
    "# NumPy的通用函数sin作用于数组\n",
    "np.sin(距离数组)"
   ]
  },
  {
   "cell_type": "code",
   "execution_count": 27,
   "metadata": {},
   "outputs": [
    {
     "ename": "TypeError",
     "evalue": "only size-1 arrays can be converted to Python scalars",
     "output_type": "error",
     "traceback": [
      "\u001b[1;31m---------------------------------------------------------------------------\u001b[0m",
      "\u001b[1;31mTypeError\u001b[0m                                 Traceback (most recent call last)",
      "\u001b[1;32m<ipython-input-27-ed58b7ee7c4b>\u001b[0m in \u001b[0;36m<module>\u001b[1;34m\u001b[0m\n\u001b[0;32m      2\u001b[0m \u001b[1;31m# Python标准库中的sin函数作用于数组会产生错误信息\u001b[0m\u001b[1;33m\u001b[0m\u001b[1;33m\u001b[0m\u001b[1;33m\u001b[0m\u001b[0m\n\u001b[0;32m      3\u001b[0m \u001b[1;33m\u001b[0m\u001b[0m\n\u001b[1;32m----> 4\u001b[1;33m \u001b[0msin\u001b[0m\u001b[1;33m(\u001b[0m\u001b[0m距离数组\u001b[0m\u001b[1;33m)\u001b[0m\u001b[1;33m\u001b[0m\u001b[1;33m\u001b[0m\u001b[0m\n\u001b[0m",
      "\u001b[1;31mTypeError\u001b[0m: only size-1 arrays can be converted to Python scalars"
     ]
    }
   ],
   "source": [
    "from math import sin\n",
    "# Python标准库中的sin函数（及其它函数）不能作用于NumPy数组。\n",
    "\n",
    "sin(距离数组)"
   ]
  },
  {
   "cell_type": "code",
   "execution_count": 30,
   "metadata": {},
   "outputs": [
    {
     "data": {
      "text/plain": [
       "array([1])"
      ]
     },
     "execution_count": 30,
     "metadata": {},
     "output_type": "execute_result"
    }
   ],
   "source": [
    "# 使用随机数模拟抛掷一枚硬币\n",
    "# 使用随机生成整数0或1，模拟投掷一枚硬币：0代表背面，1代表正面。\n",
    "np.random.randint(low = 0, high = 2, size = 1)"
   ]
  },
  {
   "cell_type": "code",
   "execution_count": 34,
   "metadata": {},
   "outputs": [
    {
     "name": "stdout",
     "output_type": "stream",
     "text": [
      "[1 1 0 0 0 1 0 1 1 1]\n",
      "6\n"
     ]
    }
   ],
   "source": [
    "# 连续投掷一枚硬币10次作为一次随机实验。\n",
    "一次抛掷硬币实验 = np.random.randint(0, 2, size = 10)\n",
    "print(一次抛掷硬币实验)           # 显示实验结果\n",
    "print(一次抛掷硬币实验.sum())     # 显示10次抛掷中，正面朝上的次数。 "
   ]
  },
  {
   "cell_type": "code",
   "execution_count": 38,
   "metadata": {},
   "outputs": [
    {
     "name": "stdout",
     "output_type": "stream",
     "text": [
      "[[0 1 1 1 0 1 0 0 1 0]\n",
      " [1 1 1 1 1 0 1 0 0 1]\n",
      " [1 0 1 0 1 0 0 0 1 1]\n",
      " [0 0 1 1 1 1 0 0 0 0]\n",
      " [1 1 1 0 0 0 0 0 1 1]\n",
      " [0 0 1 1 0 1 1 0 0 1]\n",
      " [1 0 1 1 0 1 1 1 0 1]\n",
      " [0 0 0 1 0 1 1 1 1 0]\n",
      " [1 1 1 0 1 1 0 0 0 1]\n",
      " [0 1 0 0 0 1 0 0 0 1]]\n"
     ]
    }
   ],
   "source": [
    "# 重复10000次随机实验\n",
    "重复随机实验 = np.random.randint(0, 2, size = (10000, 10))\n",
    "\n",
    "# 显示其中前10行。\n",
    "print(重复随机实验[:10, :]) "
   ]
  },
  {
   "cell_type": "code",
   "execution_count": 37,
   "metadata": {},
   "outputs": [
    {
     "name": "stdout",
     "output_type": "stream",
     "text": [
      "5.0127\n",
      "5.0\n",
      "0 10\n",
      "1.5814356483904113\n"
     ]
    }
   ],
   "source": [
    "# 一些基本计数和统计\n",
    "出现正面次数 = 重复随机实验.sum(axis = 1)    # axis = 1表示对每个列求和。\n",
    "\n",
    "# 10000次实验中，每次随机实验中出现正面次数的平均值。\n",
    "print(出现正面次数.mean())\n",
    "\n",
    "# 10000次实验中，每次随机实验出现正面次数的中位数。\n",
    "print(np.median(出现正面次数))              \n",
    "\n",
    "# 10000次实验中，每次随机实验出现正面次数的最小值和最大值。\n",
    "print(出现正面次数.min(), 出现正面次数.max())     \n",
    "\n",
    "# 10000次实验中，每次随机实验中出现正面次数的标准差。\n",
    "print(出现正面次数.std())"
   ]
  },
  {
   "cell_type": "code",
   "execution_count": 40,
   "metadata": {},
   "outputs": [
    {
     "name": "stdout",
     "output_type": "stream",
     "text": [
      "===============\n",
      "\n",
      "第0次抛掷，共观察到正面：13次 (0.1%)\n",
      "第1次抛掷，共观察到正面：117次 (1.2%)\n",
      "第2次抛掷，共观察到正面：419次 (4.2%)\n",
      "第3次抛掷，共观察到正面：1140次 (11.4%)\n",
      "第4次抛掷，共观察到正面：1983次 (19.8%)\n",
      "第5次抛掷，共观察到正面：2531次 (25.3%)\n",
      "第6次抛掷，共观察到正面：2055次 (20.6%)\n",
      "第7次抛掷，共观察到正面：1227次 (12.3%)\n",
      "第8次抛掷，共观察到正面：399次 (4.0%)\n",
      "第9次抛掷，共观察到正面：106次 (1.1%)\n",
      "第10次抛掷，共观察到正面：10次 (0.1%)\n"
     ]
    }
   ],
   "source": [
    "一次随机实验抛掷次数 = np.arange(0, 11)\n",
    "观察到的次数 = np.bincount(出现正面次数)\n",
    "\n",
    "print(\"===============\\n\")\n",
    "for n, count in zip(一次随机实验抛掷次数, 观察到的次数):\n",
    "    print(\"第{}次抛掷，共观察到正面：{}次 ({:0.1f}%)\".format(n, count, 100 * count/10000))"
   ]
  },
  {
   "cell_type": "code",
   "execution_count": 42,
   "metadata": {},
   "outputs": [
    {
     "data": {
      "text/plain": [
       "星期一    23\n",
       "星期二    19\n",
       "星期三    15\n",
       "星期四     9\n",
       "星期五    11\n",
       "星期六    -5\n",
       "星期日     9\n",
       "dtype: int64"
      ]
     },
     "execution_count": 42,
     "metadata": {},
     "output_type": "execute_result"
    }
   ],
   "source": [
    "# 从列表创建\n",
    "气温 = [23, 19, 15, 9, 11, -5, 9]\n",
    "日期 = ['星期一','星期二','星期三','星期四','星期五','星期六','星期日']\n",
    "\n",
    "# 创建Series对象：列表“气温”作为数据，列表“日期”作为索引。 \n",
    "从列表创建Series对象 = pd.Series(气温, index = 日期)\n",
    "从列表创建Series对象"
   ]
  },
  {
   "cell_type": "code",
   "execution_count": 43,
   "metadata": {},
   "outputs": [
    {
     "data": {
      "text/plain": [
       "星期一    23\n",
       "星期二    19\n",
       "星期三    15\n",
       "星期四     9\n",
       "星期五    11\n",
       "星期六    -5\n",
       "星期日     9\n",
       "dtype: int64"
      ]
     },
     "execution_count": 43,
     "metadata": {},
     "output_type": "execute_result"
    }
   ],
   "source": [
    "# 从字典创建\n",
    "\n",
    "字典 = {'星期一': 23, '星期二': 19, '星期三': 15, \n",
    "        '星期四': 9, '星期五': 11, '星期六': -5, '星期日': 9}\n",
    "\n",
    "# 创建Series对象：字典值作为数据，字典关键词作为索引。 \n",
    "从字典创建Series对象 = pd.Series(字典)\n",
    "从字典创建Series对象"
   ]
  },
  {
   "cell_type": "code",
   "execution_count": 44,
   "metadata": {},
   "outputs": [
    {
     "data": {
      "text/plain": [
       "0      0.000000\n",
       "1      0.714286\n",
       "2      1.428571\n",
       "3      2.142857\n",
       "4      2.857143\n",
       "5      3.571429\n",
       "6      4.285714\n",
       "7      5.000000\n",
       "8      5.714286\n",
       "9      6.428571\n",
       "10     7.142857\n",
       "11     7.857143\n",
       "12     8.571429\n",
       "13     9.285714\n",
       "14    10.000000\n",
       "dtype: float64"
      ]
     },
     "execution_count": 44,
     "metadata": {},
     "output_type": "execute_result"
    }
   ],
   "source": [
    "# 从numpy数组创建\n",
    "范围数组 = np.linspace(0, 10, 15)\n",
    "\n",
    "# 创建Series对象：数组中的值作为数据，自动生成默认索引。\n",
    "从数组创建Series对象 = pd.Series(范围数组)\n",
    "从数组创建Series对象"
   ]
  },
  {
   "cell_type": "code",
   "execution_count": 74,
   "metadata": {},
   "outputs": [
    {
     "data": {
      "text/html": [
       "<div>\n",
       "<style scoped>\n",
       "    .dataframe tbody tr th:only-of-type {\n",
       "        vertical-align: middle;\n",
       "    }\n",
       "\n",
       "    .dataframe tbody tr th {\n",
       "        vertical-align: top;\n",
       "    }\n",
       "\n",
       "    .dataframe thead th {\n",
       "        text-align: right;\n",
       "    }\n",
       "</style>\n",
       "<table border=\"1\" class=\"dataframe\">\n",
       "  <thead>\n",
       "    <tr style=\"text-align: right;\">\n",
       "      <th></th>\n",
       "      <th>A</th>\n",
       "      <th>B</th>\n",
       "      <th>C</th>\n",
       "      <th>D</th>\n",
       "    </tr>\n",
       "  </thead>\n",
       "  <tbody>\n",
       "    <tr>\n",
       "      <td>0</td>\n",
       "      <td>-0.289250</td>\n",
       "      <td>0.442671</td>\n",
       "      <td>-1.604742</td>\n",
       "      <td>1.327943</td>\n",
       "    </tr>\n",
       "    <tr>\n",
       "      <td>1</td>\n",
       "      <td>0.951947</td>\n",
       "      <td>0.335865</td>\n",
       "      <td>2.354530</td>\n",
       "      <td>0.386627</td>\n",
       "    </tr>\n",
       "    <tr>\n",
       "      <td>2</td>\n",
       "      <td>0.549082</td>\n",
       "      <td>-0.974809</td>\n",
       "      <td>-0.547286</td>\n",
       "      <td>-1.028474</td>\n",
       "    </tr>\n",
       "    <tr>\n",
       "      <td>3</td>\n",
       "      <td>0.342330</td>\n",
       "      <td>1.223685</td>\n",
       "      <td>-2.243039</td>\n",
       "      <td>-0.584495</td>\n",
       "    </tr>\n",
       "    <tr>\n",
       "      <td>4</td>\n",
       "      <td>-0.278111</td>\n",
       "      <td>-0.233396</td>\n",
       "      <td>0.695089</td>\n",
       "      <td>0.203179</td>\n",
       "    </tr>\n",
       "    <tr>\n",
       "      <td>5</td>\n",
       "      <td>0.042353</td>\n",
       "      <td>1.035513</td>\n",
       "      <td>-1.079720</td>\n",
       "      <td>-0.261004</td>\n",
       "    </tr>\n",
       "    <tr>\n",
       "      <td>6</td>\n",
       "      <td>-0.955510</td>\n",
       "      <td>0.715137</td>\n",
       "      <td>0.448686</td>\n",
       "      <td>-0.024740</td>\n",
       "    </tr>\n",
       "    <tr>\n",
       "      <td>7</td>\n",
       "      <td>0.957339</td>\n",
       "      <td>-0.554422</td>\n",
       "      <td>0.904310</td>\n",
       "      <td>-0.415632</td>\n",
       "    </tr>\n",
       "    <tr>\n",
       "      <td>8</td>\n",
       "      <td>1.426751</td>\n",
       "      <td>-0.893622</td>\n",
       "      <td>1.944360</td>\n",
       "      <td>1.668782</td>\n",
       "    </tr>\n",
       "    <tr>\n",
       "      <td>9</td>\n",
       "      <td>-2.323945</td>\n",
       "      <td>-0.133213</td>\n",
       "      <td>-1.317816</td>\n",
       "      <td>0.475373</td>\n",
       "    </tr>\n",
       "  </tbody>\n",
       "</table>\n",
       "</div>"
      ],
      "text/plain": [
       "          A         B         C         D\n",
       "0 -0.289250  0.442671 -1.604742  1.327943\n",
       "1  0.951947  0.335865  2.354530  0.386627\n",
       "2  0.549082 -0.974809 -0.547286 -1.028474\n",
       "3  0.342330  1.223685 -2.243039 -0.584495\n",
       "4 -0.278111 -0.233396  0.695089  0.203179\n",
       "5  0.042353  1.035513 -1.079720 -0.261004\n",
       "6 -0.955510  0.715137  0.448686 -0.024740\n",
       "7  0.957339 -0.554422  0.904310 -0.415632\n",
       "8  1.426751 -0.893622  1.944360  1.668782\n",
       "9 -2.323945 -0.133213 -1.317816  0.475373"
      ]
     },
     "execution_count": 74,
     "metadata": {},
     "output_type": "execute_result"
    }
   ],
   "source": [
    "import pandas as pd\n",
    "import numpy as np\n",
    "\n",
    "# 使用DataFrame函数直接从数据产生\n",
    "数据帧的实例 = pd.DataFrame(np.random.randn(10, 4), columns = list('ABCD'))\n",
    "数据帧的实例"
   ]
  },
  {
   "cell_type": "code",
   "execution_count": 51,
   "metadata": {},
   "outputs": [
    {
     "name": "stdout",
     "output_type": "stream",
     "text": [
      "DatetimeIndex(['2019-12-01', '2019-12-02', '2019-12-03', '2019-12-04',\n",
      "               '2019-12-05', '2019-12-06', '2019-12-07', '2019-12-08',\n",
      "               '2019-12-09', '2019-12-10'],\n",
      "              dtype='datetime64[ns]', freq='D')\n"
     ]
    }
   ],
   "source": [
    "产生日期范围 = pd.date_range('20191201', periods = 10)   # 生成一个日期范围 \n",
    "print(产生日期范围)"
   ]
  },
  {
   "cell_type": "code",
   "execution_count": 52,
   "metadata": {},
   "outputs": [
    {
     "name": "stdout",
     "output_type": "stream",
     "text": [
      "                   A         B         C         D\n",
      "2019-12-01  0.758515 -1.156802 -0.650631 -0.191784\n",
      "2019-12-02 -1.204874  1.212811 -1.329079 -0.736970\n",
      "2019-12-03 -0.175898  0.740828 -1.552197  1.187381\n",
      "2019-12-04 -0.114357  0.111413  1.029002  0.318320\n",
      "2019-12-05 -2.266612  0.535851  0.345531 -0.943554\n",
      "2019-12-06  0.350373 -0.816398 -2.093955 -0.056683\n",
      "2019-12-07  0.348589  0.969589  1.333753  0.329292\n",
      "2019-12-08 -0.920187  0.238947 -0.808772  0.335439\n",
      "2019-12-09  1.450891  0.147826  0.247788 -0.121437\n",
      "2019-12-10 -0.020985  0.418398  0.353591  3.206765\n"
     ]
    }
   ],
   "source": [
    "数据帧的实例.index = 产生日期范围     # 将日期范围指定为索引\n",
    "print(数据帧的实例)"
   ]
  },
  {
   "cell_type": "code",
   "execution_count": 53,
   "metadata": {},
   "outputs": [
    {
     "name": "stdout",
     "output_type": "stream",
     "text": [
      "DatetimeIndex(['2019-12-01', '2019-12-02', '2019-12-03', '2019-12-04',\n",
      "               '2019-12-05', '2019-12-06', '2019-12-07', '2019-12-08',\n",
      "               '2019-12-09', '2019-12-10'],\n",
      "              dtype='datetime64[ns]', freq='D')\n"
     ]
    }
   ],
   "source": [
    "print(数据帧的实例.index)"
   ]
  },
  {
   "cell_type": "code",
   "execution_count": 54,
   "metadata": {},
   "outputs": [
    {
     "name": "stdout",
     "output_type": "stream",
     "text": [
      "[[ 0.7585152  -1.15680211 -0.65063062 -0.19178445]\n",
      " [-1.20487431  1.21281122 -1.32907908 -0.73697036]\n",
      " [-0.17589813  0.74082823 -1.55219669  1.1873815 ]\n",
      " [-0.11435747  0.11141317  1.02900181  0.31832011]\n",
      " [-2.26661207  0.53585052  0.34553123 -0.94355406]\n",
      " [ 0.35037259 -0.8163983  -2.0939553  -0.05668317]\n",
      " [ 0.34858915  0.96958931  1.33375285  0.3292922 ]\n",
      " [-0.92018745  0.23894672 -0.80877166  0.3354389 ]\n",
      " [ 1.45089059  0.14782557  0.24778777 -0.12143661]\n",
      " [-0.02098466  0.41839763  0.35359126  3.20676526]]\n"
     ]
    }
   ],
   "source": [
    "print(数据帧的实例.values)"
   ]
  },
  {
   "cell_type": "code",
   "execution_count": 55,
   "metadata": {},
   "outputs": [
    {
     "name": "stdout",
     "output_type": "stream",
     "text": [
      "               A          B          C          D\n",
      "count  10.000000  10.000000  10.000000  10.000000\n",
      "mean   -0.179455   0.240246  -0.312497   0.332677\n",
      "std     1.058464   0.740939   1.145273   1.173642\n",
      "min    -2.266612  -1.156802  -2.093955  -0.943554\n",
      "25%    -0.734115   0.120516  -1.199002  -0.174197\n",
      "50%    -0.067671   0.328672  -0.201421   0.130818\n",
      "75%     0.349927   0.689584   0.351576   0.333902\n",
      "max     1.450891   1.212811   1.333753   3.206765\n"
     ]
    }
   ],
   "source": [
    "print(数据帧的实例.describe())"
   ]
  },
  {
   "cell_type": "code",
   "execution_count": 56,
   "metadata": {},
   "outputs": [
    {
     "name": "stdout",
     "output_type": "stream",
     "text": [
      "A   -0.179455\n",
      "B    0.240246\n",
      "C   -0.312497\n",
      "D    0.332677\n",
      "dtype: float64\n"
     ]
    }
   ],
   "source": [
    "print(数据帧的实例.mean(axis = 0))    # axis = 0意味着针对每个列计算平均值。"
   ]
  },
  {
   "cell_type": "code",
   "execution_count": 58,
   "metadata": {},
   "outputs": [
    {
     "name": "stdout",
     "output_type": "stream",
     "text": [
      "2019-12-01   -0.310175\n",
      "2019-12-02   -0.514528\n",
      "2019-12-03    0.050029\n",
      "2019-12-04    0.336094\n",
      "2019-12-05   -0.582196\n",
      "2019-12-06   -0.654166\n",
      "2019-12-07    0.745306\n",
      "2019-12-08   -0.288643\n",
      "2019-12-09    0.431267\n",
      "2019-12-10    0.989442\n",
      "Freq: D, dtype: float64\n"
     ]
    }
   ],
   "source": [
    "print(数据帧的实例.mean(axis = 1))   # axis = 1意味着针对每个行计算平均值。"
   ]
  },
  {
   "cell_type": "code",
   "execution_count": 61,
   "metadata": {},
   "outputs": [
    {
     "name": "stdout",
     "output_type": "stream",
     "text": [
      "2019-12-01    0.758515\n",
      "2019-12-02   -1.204874\n",
      "2019-12-03   -0.175898\n",
      "2019-12-04   -0.114357\n",
      "2019-12-05   -2.266612\n",
      "2019-12-06    0.350373\n",
      "2019-12-07    0.348589\n",
      "2019-12-08   -0.920187\n",
      "2019-12-09    1.450891\n",
      "2019-12-10   -0.020985\n",
      "Freq: D, Name: A, dtype: float64\n"
     ]
    }
   ],
   "source": [
    "# 获取名为A的列\n",
    "print(数据帧的实例['A'])"
   ]
  },
  {
   "cell_type": "code",
   "execution_count": 60,
   "metadata": {},
   "outputs": [
    {
     "name": "stdout",
     "output_type": "stream",
     "text": [
      "2019-12-01    0.758515\n",
      "2019-12-02   -1.204874\n",
      "2019-12-03   -0.175898\n",
      "2019-12-04   -0.114357\n",
      "2019-12-05   -2.266612\n",
      "2019-12-06    0.350373\n",
      "2019-12-07    0.348589\n",
      "2019-12-08   -0.920187\n",
      "2019-12-09    1.450891\n",
      "2019-12-10   -0.020985\n",
      "Freq: D, Name: A, dtype: float64\n"
     ]
    }
   ],
   "source": [
    "print(数据帧的实例.A)     # 与上一条指令的结果相同。"
   ]
  },
  {
   "cell_type": "code",
   "execution_count": 62,
   "metadata": {},
   "outputs": [
    {
     "name": "stdout",
     "output_type": "stream",
     "text": [
      "                   A         B\n",
      "2019-12-01  0.758515 -1.156802\n",
      "2019-12-02 -1.204874  1.212811\n",
      "2019-12-03 -0.175898  0.740828\n",
      "2019-12-04 -0.114357  0.111413\n",
      "2019-12-05 -2.266612  0.535851\n",
      "2019-12-06  0.350373 -0.816398\n",
      "2019-12-07  0.348589  0.969589\n",
      "2019-12-08 -0.920187  0.238947\n",
      "2019-12-09  1.450891  0.147826\n",
      "2019-12-10 -0.020985  0.418398\n"
     ]
    }
   ],
   "source": [
    "# 获取名为A、B的两列\n",
    "print(数据帧的实例[['A', 'B']])"
   ]
  },
  {
   "cell_type": "code",
   "execution_count": 63,
   "metadata": {},
   "outputs": [
    {
     "name": "stdout",
     "output_type": "stream",
     "text": [
      "                   A         B         C         D\n",
      "2019-12-03 -0.175898  0.740828 -1.552197  1.187381\n",
      "2019-12-04 -0.114357  0.111413  1.029002  0.318320\n"
     ]
    }
   ],
   "source": [
    "print(数据帧的实例[2:4])"
   ]
  },
  {
   "cell_type": "code",
   "execution_count": 64,
   "metadata": {},
   "outputs": [
    {
     "name": "stdout",
     "output_type": "stream",
     "text": [
      "                   A         B         C         D\n",
      "2019-12-03 -0.175898  0.740828 -1.552197  1.187381\n",
      "2019-12-04 -0.114357  0.111413  1.029002  0.318320\n"
     ]
    }
   ],
   "source": [
    "print(数据帧的实例.iloc[2:4])      # 同上：抽取第2行到第3行。"
   ]
  },
  {
   "cell_type": "code",
   "execution_count": 65,
   "metadata": {},
   "outputs": [
    {
     "name": "stdout",
     "output_type": "stream",
     "text": [
      "                   A         B         C         D\n",
      "2019-12-04 -0.114357  0.111413  1.029002  0.318320\n",
      "2019-12-05 -2.266612  0.535851  0.345531 -0.943554\n",
      "2019-12-06  0.350373 -0.816398 -2.093955 -0.056683\n",
      "2019-12-07  0.348589  0.969589  1.333753  0.329292\n"
     ]
    }
   ],
   "source": [
    "print(数据帧的实例.iloc[3:7])      # 抽取第3、4、5、6行。"
   ]
  },
  {
   "cell_type": "code",
   "execution_count": 67,
   "metadata": {},
   "outputs": [
    {
     "ename": "KeyError",
     "evalue": "\"None of [Int64Index([2, 4], dtype='int64')] are in the [columns]\"",
     "output_type": "error",
     "traceback": [
      "\u001b[1;31m---------------------------------------------------------------------------\u001b[0m",
      "\u001b[1;31mKeyError\u001b[0m                                  Traceback (most recent call last)",
      "\u001b[1;32m<ipython-input-67-14533a12b79d>\u001b[0m in \u001b[0;36m<module>\u001b[1;34m\u001b[0m\n\u001b[1;32m----> 1\u001b[1;33m \u001b[0mprint\u001b[0m\u001b[1;33m(\u001b[0m\u001b[0m数据帧的实例\u001b[0m\u001b[1;33m[\u001b[0m\u001b[1;33m[\u001b[0m\u001b[1;36m2\u001b[0m\u001b[1;33m,\u001b[0m \u001b[1;36m4\u001b[0m\u001b[1;33m]\u001b[0m\u001b[1;33m]\u001b[0m\u001b[1;33m)\u001b[0m     \u001b[1;31m# 显示错误信息；此时必须要使用iloc。\u001b[0m\u001b[1;33m\u001b[0m\u001b[1;33m\u001b[0m\u001b[0m\n\u001b[0m",
      "\u001b[1;32m~\\Anaconda3\\lib\\site-packages\\pandas\\core\\frame.py\u001b[0m in \u001b[0;36m__getitem__\u001b[1;34m(self, key)\u001b[0m\n\u001b[0;32m   2984\u001b[0m             \u001b[1;32mif\u001b[0m \u001b[0mis_iterator\u001b[0m\u001b[1;33m(\u001b[0m\u001b[0mkey\u001b[0m\u001b[1;33m)\u001b[0m\u001b[1;33m:\u001b[0m\u001b[1;33m\u001b[0m\u001b[1;33m\u001b[0m\u001b[0m\n\u001b[0;32m   2985\u001b[0m                 \u001b[0mkey\u001b[0m \u001b[1;33m=\u001b[0m \u001b[0mlist\u001b[0m\u001b[1;33m(\u001b[0m\u001b[0mkey\u001b[0m\u001b[1;33m)\u001b[0m\u001b[1;33m\u001b[0m\u001b[1;33m\u001b[0m\u001b[0m\n\u001b[1;32m-> 2986\u001b[1;33m             \u001b[0mindexer\u001b[0m \u001b[1;33m=\u001b[0m \u001b[0mself\u001b[0m\u001b[1;33m.\u001b[0m\u001b[0mloc\u001b[0m\u001b[1;33m.\u001b[0m\u001b[0m_convert_to_indexer\u001b[0m\u001b[1;33m(\u001b[0m\u001b[0mkey\u001b[0m\u001b[1;33m,\u001b[0m \u001b[0maxis\u001b[0m\u001b[1;33m=\u001b[0m\u001b[1;36m1\u001b[0m\u001b[1;33m,\u001b[0m \u001b[0mraise_missing\u001b[0m\u001b[1;33m=\u001b[0m\u001b[1;32mTrue\u001b[0m\u001b[1;33m)\u001b[0m\u001b[1;33m\u001b[0m\u001b[1;33m\u001b[0m\u001b[0m\n\u001b[0m\u001b[0;32m   2987\u001b[0m \u001b[1;33m\u001b[0m\u001b[0m\n\u001b[0;32m   2988\u001b[0m         \u001b[1;31m# take() does not accept boolean indexers\u001b[0m\u001b[1;33m\u001b[0m\u001b[1;33m\u001b[0m\u001b[1;33m\u001b[0m\u001b[0m\n",
      "\u001b[1;32m~\\Anaconda3\\lib\\site-packages\\pandas\\core\\indexing.py\u001b[0m in \u001b[0;36m_convert_to_indexer\u001b[1;34m(self, obj, axis, is_setter, raise_missing)\u001b[0m\n\u001b[0;32m   1283\u001b[0m                 \u001b[1;31m# When setting, missing keys are not allowed, even with .loc:\u001b[0m\u001b[1;33m\u001b[0m\u001b[1;33m\u001b[0m\u001b[1;33m\u001b[0m\u001b[0m\n\u001b[0;32m   1284\u001b[0m                 \u001b[0mkwargs\u001b[0m \u001b[1;33m=\u001b[0m \u001b[1;33m{\u001b[0m\u001b[1;34m\"raise_missing\"\u001b[0m\u001b[1;33m:\u001b[0m \u001b[1;32mTrue\u001b[0m \u001b[1;32mif\u001b[0m \u001b[0mis_setter\u001b[0m \u001b[1;32melse\u001b[0m \u001b[0mraise_missing\u001b[0m\u001b[1;33m}\u001b[0m\u001b[1;33m\u001b[0m\u001b[1;33m\u001b[0m\u001b[0m\n\u001b[1;32m-> 1285\u001b[1;33m                 \u001b[1;32mreturn\u001b[0m \u001b[0mself\u001b[0m\u001b[1;33m.\u001b[0m\u001b[0m_get_listlike_indexer\u001b[0m\u001b[1;33m(\u001b[0m\u001b[0mobj\u001b[0m\u001b[1;33m,\u001b[0m \u001b[0maxis\u001b[0m\u001b[1;33m,\u001b[0m \u001b[1;33m**\u001b[0m\u001b[0mkwargs\u001b[0m\u001b[1;33m)\u001b[0m\u001b[1;33m[\u001b[0m\u001b[1;36m1\u001b[0m\u001b[1;33m]\u001b[0m\u001b[1;33m\u001b[0m\u001b[1;33m\u001b[0m\u001b[0m\n\u001b[0m\u001b[0;32m   1286\u001b[0m         \u001b[1;32melse\u001b[0m\u001b[1;33m:\u001b[0m\u001b[1;33m\u001b[0m\u001b[1;33m\u001b[0m\u001b[0m\n\u001b[0;32m   1287\u001b[0m             \u001b[1;32mtry\u001b[0m\u001b[1;33m:\u001b[0m\u001b[1;33m\u001b[0m\u001b[1;33m\u001b[0m\u001b[0m\n",
      "\u001b[1;32m~\\Anaconda3\\lib\\site-packages\\pandas\\core\\indexing.py\u001b[0m in \u001b[0;36m_get_listlike_indexer\u001b[1;34m(self, key, axis, raise_missing)\u001b[0m\n\u001b[0;32m   1090\u001b[0m \u001b[1;33m\u001b[0m\u001b[0m\n\u001b[0;32m   1091\u001b[0m         self._validate_read_indexer(\n\u001b[1;32m-> 1092\u001b[1;33m             \u001b[0mkeyarr\u001b[0m\u001b[1;33m,\u001b[0m \u001b[0mindexer\u001b[0m\u001b[1;33m,\u001b[0m \u001b[0mo\u001b[0m\u001b[1;33m.\u001b[0m\u001b[0m_get_axis_number\u001b[0m\u001b[1;33m(\u001b[0m\u001b[0maxis\u001b[0m\u001b[1;33m)\u001b[0m\u001b[1;33m,\u001b[0m \u001b[0mraise_missing\u001b[0m\u001b[1;33m=\u001b[0m\u001b[0mraise_missing\u001b[0m\u001b[1;33m\u001b[0m\u001b[1;33m\u001b[0m\u001b[0m\n\u001b[0m\u001b[0;32m   1093\u001b[0m         )\n\u001b[0;32m   1094\u001b[0m         \u001b[1;32mreturn\u001b[0m \u001b[0mkeyarr\u001b[0m\u001b[1;33m,\u001b[0m \u001b[0mindexer\u001b[0m\u001b[1;33m\u001b[0m\u001b[1;33m\u001b[0m\u001b[0m\n",
      "\u001b[1;32m~\\Anaconda3\\lib\\site-packages\\pandas\\core\\indexing.py\u001b[0m in \u001b[0;36m_validate_read_indexer\u001b[1;34m(self, key, indexer, axis, raise_missing)\u001b[0m\n\u001b[0;32m   1175\u001b[0m                 raise KeyError(\n\u001b[0;32m   1176\u001b[0m                     \"None of [{key}] are in the [{axis}]\".format(\n\u001b[1;32m-> 1177\u001b[1;33m                         \u001b[0mkey\u001b[0m\u001b[1;33m=\u001b[0m\u001b[0mkey\u001b[0m\u001b[1;33m,\u001b[0m \u001b[0maxis\u001b[0m\u001b[1;33m=\u001b[0m\u001b[0mself\u001b[0m\u001b[1;33m.\u001b[0m\u001b[0mobj\u001b[0m\u001b[1;33m.\u001b[0m\u001b[0m_get_axis_name\u001b[0m\u001b[1;33m(\u001b[0m\u001b[0maxis\u001b[0m\u001b[1;33m)\u001b[0m\u001b[1;33m\u001b[0m\u001b[1;33m\u001b[0m\u001b[0m\n\u001b[0m\u001b[0;32m   1178\u001b[0m                     )\n\u001b[0;32m   1179\u001b[0m                 )\n",
      "\u001b[1;31mKeyError\u001b[0m: \"None of [Int64Index([2, 4], dtype='int64')] are in the [columns]\""
     ]
    }
   ],
   "source": [
    "print(数据帧的实例[[2, 4]])     # 显示错误信息；此时必须要使用iloc。"
   ]
  },
  {
   "cell_type": "code",
   "execution_count": 70,
   "metadata": {},
   "outputs": [
    {
     "name": "stdout",
     "output_type": "stream",
     "text": [
      "                   A         B         C         D\n",
      "2019-12-03 -0.175898  0.740828 -1.552197  1.187381\n",
      "2019-12-05 -2.266612  0.535851  0.345531 -0.943554\n"
     ]
    }
   ],
   "source": [
    "print(数据帧的实例.iloc[[2, 4]])    # 抽取第2行和第4行。"
   ]
  },
  {
   "cell_type": "code",
   "execution_count": 71,
   "metadata": {},
   "outputs": [
    {
     "name": "stdout",
     "output_type": "stream",
     "text": [
      "                   B         C         D\n",
      "2019-12-05  0.535851  0.345531 -0.943554\n",
      "2019-12-06 -0.816398 -2.093955 -0.056683\n",
      "2019-12-07  0.969589  1.333753  0.329292\n",
      "2019-12-08  0.238947 -0.808772  0.335439\n"
     ]
    }
   ],
   "source": [
    "print(数据帧的实例.iloc[4:8, 1:4])"
   ]
  },
  {
   "cell_type": "code",
   "execution_count": 72,
   "metadata": {},
   "outputs": [
    {
     "name": "stdout",
     "output_type": "stream",
     "text": [
      "                   B         D\n",
      "2019-12-03  0.740828  1.187381\n",
      "2019-12-05  0.535851 -0.943554\n"
     ]
    }
   ],
   "source": [
    "print(数据帧的实例.iloc[[2, 4], [1, 3]])"
   ]
  },
  {
   "cell_type": "code",
   "execution_count": 32,
   "metadata": {},
   "outputs": [
    {
     "name": "stdout",
     "output_type": "stream",
     "text": [
      "                   A         B         C         D\n",
      "2019-09-09  0.187497  1.122150 -0.988277 -1.985934\n",
      "2019-09-15  0.001268  0.951517  2.107360 -0.108726\n",
      "2019-09-17  0.387023  1.706336 -2.452653  0.260466\n"
     ]
    }
   ],
   "source": [
    "print(df[(数据帧的实例.A > 0) & (数据帧的实例.B > 0)])"
   ]
  },
  {
   "cell_type": "code",
   "execution_count": 36,
   "metadata": {},
   "outputs": [
    {
     "name": "stdout",
     "output_type": "stream",
     "text": [
      "                   A         B         C         D\n",
      "2019-09-18 -1.054974  0.556775 -0.945219 -0.030295\n",
      "2019-09-17  0.387023  1.706336 -2.452653  0.260466\n",
      "2019-09-16 -0.185258  0.856520 -0.686285  1.104195\n",
      "2019-09-15  0.001268  0.951517  2.107360 -0.108726\n",
      "2019-09-14  0.070011 -0.516443 -1.655689  0.246721\n",
      "2019-09-13  0.537438 -1.737568  0.714727 -0.939288\n",
      "2019-09-12 -0.279572 -0.702492  0.252265  0.958977\n",
      "2019-09-11 -0.040627  0.067333 -0.452978  0.686223\n",
      "2019-09-10  0.360803 -0.562243 -0.340693 -0.986988\n",
      "2019-09-09  0.187497  1.122150 -0.988277 -1.985934\n"
     ]
    }
   ],
   "source": [
    "print(数据帧的实例.sort_index(axis = 0, ascending = False))   # axis = 0意味着按照行索引排序。"
   ]
  },
  {
   "cell_type": "code",
   "execution_count": 37,
   "metadata": {},
   "outputs": [
    {
     "name": "stdout",
     "output_type": "stream",
     "text": [
      "                   D         C         B         A\n",
      "2019-09-09 -1.985934 -0.988277  1.122150  0.187497\n",
      "2019-09-10 -0.986988 -0.340693 -0.562243  0.360803\n",
      "2019-09-11  0.686223 -0.452978  0.067333 -0.040627\n",
      "2019-09-12  0.958977  0.252265 -0.702492 -0.279572\n",
      "2019-09-13 -0.939288  0.714727 -1.737568  0.537438\n",
      "2019-09-14  0.246721 -1.655689 -0.516443  0.070011\n",
      "2019-09-15 -0.108726  2.107360  0.951517  0.001268\n",
      "2019-09-16  1.104195 -0.686285  0.856520 -0.185258\n",
      "2019-09-17  0.260466 -2.452653  1.706336  0.387023\n",
      "2019-09-18 -0.030295 -0.945219  0.556775 -1.054974\n"
     ]
    }
   ],
   "source": [
    "print(数据帧的实例.sort_index(axis = 1, ascending = False))  # axis = 1意味着按照列来排序。"
   ]
  },
  {
   "cell_type": "code",
   "execution_count": 48,
   "metadata": {},
   "outputs": [
    {
     "name": "stdout",
     "output_type": "stream",
     "text": [
      "                   A         B         C         D\n",
      "2019-06-03 -1.054974  0.556775 -0.945219 -0.030295\n",
      "2019-05-28 -0.279572 -0.702492  0.252265  0.958977\n",
      "2019-06-01 -0.185258  0.856520 -0.686285  1.104195\n",
      "2019-05-27 -0.040627  0.067333 -0.452978  0.686223\n",
      "2019-05-31  0.001268  0.951517  2.107360 -0.108726\n",
      "2019-05-30  0.070011 -0.516443 -1.655689  0.246721\n",
      "2019-05-25  0.187497  1.122150 -0.988277 -1.985934\n",
      "2019-05-26  0.360803 -0.562243 -0.340693 -0.986988\n",
      "2019-06-02  0.387023  1.706336 -2.452653  0.260466\n",
      "2019-05-29  0.537438 -1.737568  0.714727 -0.939288\n"
     ]
    }
   ],
   "source": [
    "print(数据帧的实例.sort_values('A', axis = 0))    # 基于A列的值来排序，默认为升序。"
   ]
  },
  {
   "cell_type": "markdown",
   "metadata": {},
   "source": [
    "如果是基于一个特定的行索引来排序，需将参数`axis`设为1："
   ]
  },
  {
   "cell_type": "code",
   "execution_count": 38,
   "metadata": {},
   "outputs": [
    {
     "name": "stdout",
     "output_type": "stream",
     "text": [
      "                   C         A         B         D\n",
      "2019-09-09 -0.988277  0.187497  1.122150 -1.985934\n",
      "2019-09-10 -0.340693  0.360803 -0.562243 -0.986988\n",
      "2019-09-11 -0.452978 -0.040627  0.067333  0.686223\n",
      "2019-09-12  0.252265 -0.279572 -0.702492  0.958977\n",
      "2019-09-13  0.714727  0.537438 -1.737568 -0.939288\n",
      "2019-09-14 -1.655689  0.070011 -0.516443  0.246721\n",
      "2019-09-15  2.107360  0.001268  0.951517 -0.108726\n",
      "2019-09-16 -0.686285 -0.185258  0.856520  1.104195\n",
      "2019-09-17 -2.452653  0.387023  1.706336  0.260466\n",
      "2019-09-18 -0.945219 -1.054974  0.556775 -0.030295\n"
     ]
    }
   ],
   "source": [
    "print(数据帧的实例.sort_values('20191207', axis = 1))"
   ]
  },
  {
   "cell_type": "code",
   "execution_count": 1,
   "metadata": {},
   "outputs": [
    {
     "data": {
      "text/html": [
       "<div>\n",
       "<style scoped>\n",
       "    .dataframe tbody tr th:only-of-type {\n",
       "        vertical-align: middle;\n",
       "    }\n",
       "\n",
       "    .dataframe tbody tr th {\n",
       "        vertical-align: top;\n",
       "    }\n",
       "\n",
       "    .dataframe thead th {\n",
       "        text-align: right;\n",
       "    }\n",
       "</style>\n",
       "<table border=\"1\" class=\"dataframe\">\n",
       "  <thead>\n",
       "    <tr style=\"text-align: right;\">\n",
       "      <th></th>\n",
       "      <th>年份</th>\n",
       "      <th>俱乐部</th>\n",
       "      <th>胜</th>\n",
       "      <th>平</th>\n",
       "      <th>负</th>\n",
       "    </tr>\n",
       "  </thead>\n",
       "  <tbody>\n",
       "    <tr>\n",
       "      <td>0</td>\n",
       "      <td>2010</td>\n",
       "      <td>巴塞罗那</td>\n",
       "      <td>30</td>\n",
       "      <td>6</td>\n",
       "      <td>2</td>\n",
       "    </tr>\n",
       "    <tr>\n",
       "      <td>1</td>\n",
       "      <td>2011</td>\n",
       "      <td>巴塞罗那</td>\n",
       "      <td>28</td>\n",
       "      <td>7</td>\n",
       "      <td>3</td>\n",
       "    </tr>\n",
       "    <tr>\n",
       "      <td>2</td>\n",
       "      <td>2012</td>\n",
       "      <td>巴塞罗那</td>\n",
       "      <td>32</td>\n",
       "      <td>4</td>\n",
       "      <td>2</td>\n",
       "    </tr>\n",
       "    <tr>\n",
       "      <td>3</td>\n",
       "      <td>2010</td>\n",
       "      <td>皇家马德里</td>\n",
       "      <td>29</td>\n",
       "      <td>5</td>\n",
       "      <td>4</td>\n",
       "    </tr>\n",
       "    <tr>\n",
       "      <td>4</td>\n",
       "      <td>2011</td>\n",
       "      <td>皇家马德里</td>\n",
       "      <td>32</td>\n",
       "      <td>4</td>\n",
       "      <td>2</td>\n",
       "    </tr>\n",
       "    <tr>\n",
       "      <td>5</td>\n",
       "      <td>2012</td>\n",
       "      <td>皇家马德里</td>\n",
       "      <td>26</td>\n",
       "      <td>7</td>\n",
       "      <td>5</td>\n",
       "    </tr>\n",
       "    <tr>\n",
       "      <td>6</td>\n",
       "      <td>2010</td>\n",
       "      <td>瓦伦西亚</td>\n",
       "      <td>21</td>\n",
       "      <td>8</td>\n",
       "      <td>9</td>\n",
       "    </tr>\n",
       "    <tr>\n",
       "      <td>7</td>\n",
       "      <td>2011</td>\n",
       "      <td>瓦伦西亚</td>\n",
       "      <td>17</td>\n",
       "      <td>10</td>\n",
       "      <td>11</td>\n",
       "    </tr>\n",
       "    <tr>\n",
       "      <td>8</td>\n",
       "      <td>2012</td>\n",
       "      <td>瓦伦西亚</td>\n",
       "      <td>19</td>\n",
       "      <td>8</td>\n",
       "      <td>11</td>\n",
       "    </tr>\n",
       "  </tbody>\n",
       "</table>\n",
       "</div>"
      ],
      "text/plain": [
       "     年份    俱乐部   胜   平   负\n",
       "0  2010   巴塞罗那  30   6   2\n",
       "1  2011   巴塞罗那  28   7   3\n",
       "2  2012   巴塞罗那  32   4   2\n",
       "3  2010  皇家马德里  29   5   4\n",
       "4  2011  皇家马德里  32   4   2\n",
       "5  2012  皇家马德里  26   7   5\n",
       "6  2010   瓦伦西亚  21   8   9\n",
       "7  2011   瓦伦西亚  17  10  11\n",
       "8  2012   瓦伦西亚  19   8  11"
      ]
     },
     "execution_count": 1,
     "metadata": {},
     "output_type": "execute_result"
    }
   ],
   "source": [
    "import numpy as np\n",
    "import pandas as pd\n",
    "\n",
    "字典 = {'年份': [2010, 2011, 2012, 2010, 2011, 2012, 2010, 2011, 2012],\n",
    "        '俱乐部': ['巴塞罗那', '巴塞罗那', '巴塞罗那', '皇家马德里', '皇家马德里', '皇家马德里', '瓦伦西亚',\n",
    "                 '瓦伦西亚', '瓦伦西亚'],\n",
    "        '胜': [30, 28, 32, 29, 32, 26, 21, 17, 19],\n",
    "        '平': [6, 7, 4, 5, 4, 7, 8, 10, 8],\n",
    "        '负': [2, 3, 2, 4, 2, 5, 9, 11, 11]\n",
    "        }\n",
    "历年成绩表 = pd.DataFrame(字典, columns = ['年份', '俱乐部', '胜', '平', '负'])\n",
    "\n",
    "历年成绩表"
   ]
  },
  {
   "cell_type": "code",
   "execution_count": 3,
   "metadata": {},
   "outputs": [
    {
     "data": {
      "text/html": [
       "<div>\n",
       "<style scoped>\n",
       "    .dataframe tbody tr th:only-of-type {\n",
       "        vertical-align: middle;\n",
       "    }\n",
       "\n",
       "    .dataframe tbody tr th {\n",
       "        vertical-align: top;\n",
       "    }\n",
       "\n",
       "    .dataframe thead th {\n",
       "        text-align: right;\n",
       "    }\n",
       "</style>\n",
       "<table border=\"1\" class=\"dataframe\">\n",
       "  <thead>\n",
       "    <tr style=\"text-align: right;\">\n",
       "      <th></th>\n",
       "      <th>年份</th>\n",
       "      <th>俱乐部</th>\n",
       "      <th>胜</th>\n",
       "      <th>平</th>\n",
       "      <th>负</th>\n",
       "      <th>当年名次</th>\n",
       "    </tr>\n",
       "  </thead>\n",
       "  <tbody>\n",
       "    <tr>\n",
       "      <td>0</td>\n",
       "      <td>2010</td>\n",
       "      <td>巴塞罗那</td>\n",
       "      <td>30</td>\n",
       "      <td>6</td>\n",
       "      <td>2</td>\n",
       "      <td>1</td>\n",
       "    </tr>\n",
       "    <tr>\n",
       "      <td>1</td>\n",
       "      <td>2011</td>\n",
       "      <td>巴塞罗那</td>\n",
       "      <td>28</td>\n",
       "      <td>7</td>\n",
       "      <td>3</td>\n",
       "      <td>2</td>\n",
       "    </tr>\n",
       "    <tr>\n",
       "      <td>2</td>\n",
       "      <td>2012</td>\n",
       "      <td>巴塞罗那</td>\n",
       "      <td>32</td>\n",
       "      <td>4</td>\n",
       "      <td>2</td>\n",
       "      <td>1</td>\n",
       "    </tr>\n",
       "    <tr>\n",
       "      <td>3</td>\n",
       "      <td>2010</td>\n",
       "      <td>皇家马德里</td>\n",
       "      <td>29</td>\n",
       "      <td>5</td>\n",
       "      <td>4</td>\n",
       "      <td>2</td>\n",
       "    </tr>\n",
       "    <tr>\n",
       "      <td>4</td>\n",
       "      <td>2011</td>\n",
       "      <td>皇家马德里</td>\n",
       "      <td>32</td>\n",
       "      <td>4</td>\n",
       "      <td>2</td>\n",
       "      <td>1</td>\n",
       "    </tr>\n",
       "    <tr>\n",
       "      <td>5</td>\n",
       "      <td>2012</td>\n",
       "      <td>皇家马德里</td>\n",
       "      <td>26</td>\n",
       "      <td>7</td>\n",
       "      <td>5</td>\n",
       "      <td>2</td>\n",
       "    </tr>\n",
       "    <tr>\n",
       "      <td>6</td>\n",
       "      <td>2010</td>\n",
       "      <td>瓦伦西亚</td>\n",
       "      <td>21</td>\n",
       "      <td>8</td>\n",
       "      <td>9</td>\n",
       "      <td>3</td>\n",
       "    </tr>\n",
       "    <tr>\n",
       "      <td>7</td>\n",
       "      <td>2011</td>\n",
       "      <td>瓦伦西亚</td>\n",
       "      <td>17</td>\n",
       "      <td>10</td>\n",
       "      <td>11</td>\n",
       "      <td>3</td>\n",
       "    </tr>\n",
       "    <tr>\n",
       "      <td>8</td>\n",
       "      <td>2012</td>\n",
       "      <td>瓦伦西亚</td>\n",
       "      <td>19</td>\n",
       "      <td>8</td>\n",
       "      <td>11</td>\n",
       "      <td>3</td>\n",
       "    </tr>\n",
       "  </tbody>\n",
       "</table>\n",
       "</div>"
      ],
      "text/plain": [
       "     年份    俱乐部   胜   平   负  当年名次\n",
       "0  2010   巴塞罗那  30   6   2     1\n",
       "1  2011   巴塞罗那  28   7   3     2\n",
       "2  2012   巴塞罗那  32   4   2     1\n",
       "3  2010  皇家马德里  29   5   4     2\n",
       "4  2011  皇家马德里  32   4   2     1\n",
       "5  2012  皇家马德里  26   7   5     2\n",
       "6  2010   瓦伦西亚  21   8   9     3\n",
       "7  2011   瓦伦西亚  17  10  11     3\n",
       "8  2012   瓦伦西亚  19   8  11     3"
      ]
     },
     "execution_count": 3,
     "metadata": {},
     "output_type": "execute_result"
    }
   ],
   "source": [
    "\n",
    "当年名次 = np.array([1, 2, 1, 2, 1, 2, 3, 3, 3])\n",
    "历年成绩表[\"当年名次\"] = 当年名次\n",
    "\n",
    "历年成绩表"
   ]
  },
  {
   "cell_type": "code",
   "execution_count": 6,
   "metadata": {},
   "outputs": [
    {
     "data": {
      "text/html": [
       "<div>\n",
       "<style scoped>\n",
       "    .dataframe tbody tr th:only-of-type {\n",
       "        vertical-align: middle;\n",
       "    }\n",
       "\n",
       "    .dataframe tbody tr th {\n",
       "        vertical-align: top;\n",
       "    }\n",
       "\n",
       "    .dataframe thead th {\n",
       "        text-align: right;\n",
       "    }\n",
       "</style>\n",
       "<table border=\"1\" class=\"dataframe\">\n",
       "  <thead>\n",
       "    <tr style=\"text-align: right;\">\n",
       "      <th></th>\n",
       "      <th>年份</th>\n",
       "      <th>俱乐部</th>\n",
       "      <th>胜</th>\n",
       "      <th>平</th>\n",
       "      <th>负</th>\n",
       "      <th>当年名次</th>\n",
       "    </tr>\n",
       "  </thead>\n",
       "  <tbody>\n",
       "    <tr>\n",
       "      <td>1</td>\n",
       "      <td>2011</td>\n",
       "      <td>巴塞罗那</td>\n",
       "      <td>28</td>\n",
       "      <td>7</td>\n",
       "      <td>3</td>\n",
       "      <td>2</td>\n",
       "    </tr>\n",
       "    <tr>\n",
       "      <td>2</td>\n",
       "      <td>2012</td>\n",
       "      <td>巴塞罗那</td>\n",
       "      <td>32</td>\n",
       "      <td>4</td>\n",
       "      <td>2</td>\n",
       "      <td>1</td>\n",
       "    </tr>\n",
       "    <tr>\n",
       "      <td>4</td>\n",
       "      <td>2011</td>\n",
       "      <td>皇家马德里</td>\n",
       "      <td>32</td>\n",
       "      <td>4</td>\n",
       "      <td>2</td>\n",
       "      <td>1</td>\n",
       "    </tr>\n",
       "    <tr>\n",
       "      <td>5</td>\n",
       "      <td>2012</td>\n",
       "      <td>皇家马德里</td>\n",
       "      <td>26</td>\n",
       "      <td>7</td>\n",
       "      <td>5</td>\n",
       "      <td>2</td>\n",
       "    </tr>\n",
       "    <tr>\n",
       "      <td>7</td>\n",
       "      <td>2011</td>\n",
       "      <td>瓦伦西亚</td>\n",
       "      <td>17</td>\n",
       "      <td>10</td>\n",
       "      <td>11</td>\n",
       "      <td>3</td>\n",
       "    </tr>\n",
       "    <tr>\n",
       "      <td>8</td>\n",
       "      <td>2012</td>\n",
       "      <td>瓦伦西亚</td>\n",
       "      <td>19</td>\n",
       "      <td>8</td>\n",
       "      <td>11</td>\n",
       "      <td>3</td>\n",
       "    </tr>\n",
       "  </tbody>\n",
       "</table>\n",
       "</div>"
      ],
      "text/plain": [
       "     年份    俱乐部   胜   平   负  当年名次\n",
       "1  2011   巴塞罗那  28   7   3     2\n",
       "2  2012   巴塞罗那  32   4   2     1\n",
       "4  2011  皇家马德里  32   4   2     1\n",
       "5  2012  皇家马德里  26   7   5     2\n",
       "7  2011   瓦伦西亚  17  10  11     3\n",
       "8  2012   瓦伦西亚  19   8  11     3"
      ]
     },
     "execution_count": 6,
     "metadata": {},
     "output_type": "execute_result"
    }
   ],
   "source": [
    "# 基于索引值删除行。\n",
    "历年成绩表.drop([0, 3, 6])"
   ]
  },
  {
   "cell_type": "code",
   "execution_count": 8,
   "metadata": {},
   "outputs": [
    {
     "data": {
      "text/html": [
       "<div>\n",
       "<style scoped>\n",
       "    .dataframe tbody tr th:only-of-type {\n",
       "        vertical-align: middle;\n",
       "    }\n",
       "\n",
       "    .dataframe tbody tr th {\n",
       "        vertical-align: top;\n",
       "    }\n",
       "\n",
       "    .dataframe thead th {\n",
       "        text-align: right;\n",
       "    }\n",
       "</style>\n",
       "<table border=\"1\" class=\"dataframe\">\n",
       "  <thead>\n",
       "    <tr style=\"text-align: right;\">\n",
       "      <th></th>\n",
       "      <th>年份</th>\n",
       "      <th>俱乐部</th>\n",
       "      <th>胜</th>\n",
       "      <th>当年名次</th>\n",
       "    </tr>\n",
       "  </thead>\n",
       "  <tbody>\n",
       "    <tr>\n",
       "      <td>0</td>\n",
       "      <td>2010</td>\n",
       "      <td>巴塞罗那</td>\n",
       "      <td>30</td>\n",
       "      <td>1</td>\n",
       "    </tr>\n",
       "    <tr>\n",
       "      <td>1</td>\n",
       "      <td>2011</td>\n",
       "      <td>巴塞罗那</td>\n",
       "      <td>28</td>\n",
       "      <td>2</td>\n",
       "    </tr>\n",
       "    <tr>\n",
       "      <td>2</td>\n",
       "      <td>2012</td>\n",
       "      <td>巴塞罗那</td>\n",
       "      <td>32</td>\n",
       "      <td>1</td>\n",
       "    </tr>\n",
       "    <tr>\n",
       "      <td>3</td>\n",
       "      <td>2010</td>\n",
       "      <td>皇家马德里</td>\n",
       "      <td>29</td>\n",
       "      <td>2</td>\n",
       "    </tr>\n",
       "    <tr>\n",
       "      <td>4</td>\n",
       "      <td>2011</td>\n",
       "      <td>皇家马德里</td>\n",
       "      <td>32</td>\n",
       "      <td>1</td>\n",
       "    </tr>\n",
       "    <tr>\n",
       "      <td>5</td>\n",
       "      <td>2012</td>\n",
       "      <td>皇家马德里</td>\n",
       "      <td>26</td>\n",
       "      <td>2</td>\n",
       "    </tr>\n",
       "    <tr>\n",
       "      <td>6</td>\n",
       "      <td>2010</td>\n",
       "      <td>瓦伦西亚</td>\n",
       "      <td>21</td>\n",
       "      <td>3</td>\n",
       "    </tr>\n",
       "    <tr>\n",
       "      <td>7</td>\n",
       "      <td>2011</td>\n",
       "      <td>瓦伦西亚</td>\n",
       "      <td>17</td>\n",
       "      <td>3</td>\n",
       "    </tr>\n",
       "    <tr>\n",
       "      <td>8</td>\n",
       "      <td>2012</td>\n",
       "      <td>瓦伦西亚</td>\n",
       "      <td>19</td>\n",
       "      <td>3</td>\n",
       "    </tr>\n",
       "  </tbody>\n",
       "</table>\n",
       "</div>"
      ],
      "text/plain": [
       "     年份    俱乐部   胜  当年名次\n",
       "0  2010   巴塞罗那  30     1\n",
       "1  2011   巴塞罗那  28     2\n",
       "2  2012   巴塞罗那  32     1\n",
       "3  2010  皇家马德里  29     2\n",
       "4  2011  皇家马德里  32     1\n",
       "5  2012  皇家马德里  26     2\n",
       "6  2010   瓦伦西亚  21     3\n",
       "7  2011   瓦伦西亚  17     3\n",
       "8  2012   瓦伦西亚  19     3"
      ]
     },
     "execution_count": 8,
     "metadata": {},
     "output_type": "execute_result"
    }
   ],
   "source": [
    "历年成绩表.drop(['负', '平'], axis = 1)"
   ]
  },
  {
   "cell_type": "code",
   "execution_count": 10,
   "metadata": {},
   "outputs": [
    {
     "data": {
      "text/html": [
       "<div>\n",
       "<style scoped>\n",
       "    .dataframe tbody tr th:only-of-type {\n",
       "        vertical-align: middle;\n",
       "    }\n",
       "\n",
       "    .dataframe tbody tr th {\n",
       "        vertical-align: top;\n",
       "    }\n",
       "\n",
       "    .dataframe thead th {\n",
       "        text-align: right;\n",
       "    }\n",
       "</style>\n",
       "<table border=\"1\" class=\"dataframe\">\n",
       "  <thead>\n",
       "    <tr style=\"text-align: right;\">\n",
       "      <th></th>\n",
       "      <th>年份</th>\n",
       "      <th>俱乐部</th>\n",
       "      <th>胜</th>\n",
       "      <th>负</th>\n",
       "      <th>当年名次</th>\n",
       "    </tr>\n",
       "  </thead>\n",
       "  <tbody>\n",
       "    <tr>\n",
       "      <td>0</td>\n",
       "      <td>2010</td>\n",
       "      <td>巴塞罗那</td>\n",
       "      <td>30</td>\n",
       "      <td>2</td>\n",
       "      <td>1</td>\n",
       "    </tr>\n",
       "    <tr>\n",
       "      <td>1</td>\n",
       "      <td>2011</td>\n",
       "      <td>巴塞罗那</td>\n",
       "      <td>28</td>\n",
       "      <td>3</td>\n",
       "      <td>2</td>\n",
       "    </tr>\n",
       "    <tr>\n",
       "      <td>2</td>\n",
       "      <td>2012</td>\n",
       "      <td>巴塞罗那</td>\n",
       "      <td>32</td>\n",
       "      <td>2</td>\n",
       "      <td>1</td>\n",
       "    </tr>\n",
       "    <tr>\n",
       "      <td>3</td>\n",
       "      <td>2010</td>\n",
       "      <td>皇家马德里</td>\n",
       "      <td>29</td>\n",
       "      <td>4</td>\n",
       "      <td>2</td>\n",
       "    </tr>\n",
       "    <tr>\n",
       "      <td>4</td>\n",
       "      <td>2011</td>\n",
       "      <td>皇家马德里</td>\n",
       "      <td>32</td>\n",
       "      <td>2</td>\n",
       "      <td>1</td>\n",
       "    </tr>\n",
       "    <tr>\n",
       "      <td>5</td>\n",
       "      <td>2012</td>\n",
       "      <td>皇家马德里</td>\n",
       "      <td>26</td>\n",
       "      <td>5</td>\n",
       "      <td>2</td>\n",
       "    </tr>\n",
       "    <tr>\n",
       "      <td>6</td>\n",
       "      <td>2010</td>\n",
       "      <td>瓦伦西亚</td>\n",
       "      <td>21</td>\n",
       "      <td>9</td>\n",
       "      <td>3</td>\n",
       "    </tr>\n",
       "    <tr>\n",
       "      <td>7</td>\n",
       "      <td>2011</td>\n",
       "      <td>瓦伦西亚</td>\n",
       "      <td>17</td>\n",
       "      <td>11</td>\n",
       "      <td>3</td>\n",
       "    </tr>\n",
       "    <tr>\n",
       "      <td>8</td>\n",
       "      <td>2012</td>\n",
       "      <td>瓦伦西亚</td>\n",
       "      <td>19</td>\n",
       "      <td>11</td>\n",
       "      <td>3</td>\n",
       "    </tr>\n",
       "  </tbody>\n",
       "</table>\n",
       "</div>"
      ],
      "text/plain": [
       "     年份    俱乐部   胜   负  当年名次\n",
       "0  2010   巴塞罗那  30   2     1\n",
       "1  2011   巴塞罗那  28   3     2\n",
       "2  2012   巴塞罗那  32   2     1\n",
       "3  2010  皇家马德里  29   4     2\n",
       "4  2011  皇家马德里  32   2     1\n",
       "5  2012  皇家马德里  26   5     2\n",
       "6  2010   瓦伦西亚  21   9     3\n",
       "7  2011   瓦伦西亚  17  11     3\n",
       "8  2012   瓦伦西亚  19  11     3"
      ]
     },
     "execution_count": 10,
     "metadata": {},
     "output_type": "execute_result"
    }
   ],
   "source": [
    "历年成绩表.drop(历年成绩表.columns[3], axis = 1)       # 删除第3列。"
   ]
  },
  {
   "cell_type": "code",
   "execution_count": 12,
   "metadata": {},
   "outputs": [
    {
     "data": {
      "text/html": [
       "<div>\n",
       "<style scoped>\n",
       "    .dataframe tbody tr th:only-of-type {\n",
       "        vertical-align: middle;\n",
       "    }\n",
       "\n",
       "    .dataframe tbody tr th {\n",
       "        vertical-align: top;\n",
       "    }\n",
       "\n",
       "    .dataframe thead th {\n",
       "        text-align: right;\n",
       "    }\n",
       "</style>\n",
       "<table border=\"1\" class=\"dataframe\">\n",
       "  <thead>\n",
       "    <tr style=\"text-align: right;\">\n",
       "      <th></th>\n",
       "      <th>年份</th>\n",
       "      <th>俱乐部</th>\n",
       "      <th>胜</th>\n",
       "      <th>当年名次</th>\n",
       "    </tr>\n",
       "  </thead>\n",
       "  <tbody>\n",
       "    <tr>\n",
       "      <td>0</td>\n",
       "      <td>2010</td>\n",
       "      <td>巴塞罗那</td>\n",
       "      <td>30</td>\n",
       "      <td>1</td>\n",
       "    </tr>\n",
       "    <tr>\n",
       "      <td>1</td>\n",
       "      <td>2011</td>\n",
       "      <td>巴塞罗那</td>\n",
       "      <td>28</td>\n",
       "      <td>2</td>\n",
       "    </tr>\n",
       "    <tr>\n",
       "      <td>2</td>\n",
       "      <td>2012</td>\n",
       "      <td>巴塞罗那</td>\n",
       "      <td>32</td>\n",
       "      <td>1</td>\n",
       "    </tr>\n",
       "    <tr>\n",
       "      <td>3</td>\n",
       "      <td>2010</td>\n",
       "      <td>皇家马德里</td>\n",
       "      <td>29</td>\n",
       "      <td>2</td>\n",
       "    </tr>\n",
       "    <tr>\n",
       "      <td>4</td>\n",
       "      <td>2011</td>\n",
       "      <td>皇家马德里</td>\n",
       "      <td>32</td>\n",
       "      <td>1</td>\n",
       "    </tr>\n",
       "    <tr>\n",
       "      <td>5</td>\n",
       "      <td>2012</td>\n",
       "      <td>皇家马德里</td>\n",
       "      <td>26</td>\n",
       "      <td>2</td>\n",
       "    </tr>\n",
       "    <tr>\n",
       "      <td>6</td>\n",
       "      <td>2010</td>\n",
       "      <td>瓦伦西亚</td>\n",
       "      <td>21</td>\n",
       "      <td>3</td>\n",
       "    </tr>\n",
       "    <tr>\n",
       "      <td>7</td>\n",
       "      <td>2011</td>\n",
       "      <td>瓦伦西亚</td>\n",
       "      <td>17</td>\n",
       "      <td>3</td>\n",
       "    </tr>\n",
       "    <tr>\n",
       "      <td>8</td>\n",
       "      <td>2012</td>\n",
       "      <td>瓦伦西亚</td>\n",
       "      <td>19</td>\n",
       "      <td>3</td>\n",
       "    </tr>\n",
       "  </tbody>\n",
       "</table>\n",
       "</div>"
      ],
      "text/plain": [
       "     年份    俱乐部   胜  当年名次\n",
       "0  2010   巴塞罗那  30     1\n",
       "1  2011   巴塞罗那  28     2\n",
       "2  2012   巴塞罗那  32     1\n",
       "3  2010  皇家马德里  29     2\n",
       "4  2011  皇家马德里  32     1\n",
       "5  2012  皇家马德里  26     2\n",
       "6  2010   瓦伦西亚  21     3\n",
       "7  2011   瓦伦西亚  17     3\n",
       "8  2012   瓦伦西亚  19     3"
      ]
     },
     "execution_count": 12,
     "metadata": {},
     "output_type": "execute_result"
    }
   ],
   "source": [
    "历年成绩表.drop(历年成绩表.columns[[4, 3]], axis = 1)   # 删除第4、3列。"
   ]
  },
  {
   "cell_type": "code",
   "execution_count": 13,
   "metadata": {},
   "outputs": [
    {
     "data": {
      "text/html": [
       "<div>\n",
       "<style scoped>\n",
       "    .dataframe tbody tr th:only-of-type {\n",
       "        vertical-align: middle;\n",
       "    }\n",
       "\n",
       "    .dataframe tbody tr th {\n",
       "        vertical-align: top;\n",
       "    }\n",
       "\n",
       "    .dataframe thead th {\n",
       "        text-align: right;\n",
       "    }\n",
       "</style>\n",
       "<table border=\"1\" class=\"dataframe\">\n",
       "  <thead>\n",
       "    <tr style=\"text-align: right;\">\n",
       "      <th></th>\n",
       "      <th>年份</th>\n",
       "      <th>俱乐部</th>\n",
       "      <th>胜</th>\n",
       "      <th>平</th>\n",
       "      <th>负</th>\n",
       "      <th>当年名次</th>\n",
       "    </tr>\n",
       "  </thead>\n",
       "  <tbody>\n",
       "    <tr>\n",
       "      <td>0</td>\n",
       "      <td>2010</td>\n",
       "      <td>巴塞罗那</td>\n",
       "      <td>30</td>\n",
       "      <td>6</td>\n",
       "      <td>2</td>\n",
       "      <td>1</td>\n",
       "    </tr>\n",
       "    <tr>\n",
       "      <td>2</td>\n",
       "      <td>2012</td>\n",
       "      <td>巴塞罗那</td>\n",
       "      <td>32</td>\n",
       "      <td>4</td>\n",
       "      <td>2</td>\n",
       "      <td>1</td>\n",
       "    </tr>\n",
       "    <tr>\n",
       "      <td>3</td>\n",
       "      <td>2010</td>\n",
       "      <td>皇家马德里</td>\n",
       "      <td>29</td>\n",
       "      <td>5</td>\n",
       "      <td>4</td>\n",
       "      <td>2</td>\n",
       "    </tr>\n",
       "    <tr>\n",
       "      <td>4</td>\n",
       "      <td>2011</td>\n",
       "      <td>皇家马德里</td>\n",
       "      <td>32</td>\n",
       "      <td>4</td>\n",
       "      <td>2</td>\n",
       "      <td>1</td>\n",
       "    </tr>\n",
       "    <tr>\n",
       "      <td>5</td>\n",
       "      <td>2012</td>\n",
       "      <td>皇家马德里</td>\n",
       "      <td>26</td>\n",
       "      <td>7</td>\n",
       "      <td>5</td>\n",
       "      <td>2</td>\n",
       "    </tr>\n",
       "    <tr>\n",
       "      <td>6</td>\n",
       "      <td>2010</td>\n",
       "      <td>瓦伦西亚</td>\n",
       "      <td>21</td>\n",
       "      <td>8</td>\n",
       "      <td>9</td>\n",
       "      <td>3</td>\n",
       "    </tr>\n",
       "    <tr>\n",
       "      <td>7</td>\n",
       "      <td>2011</td>\n",
       "      <td>瓦伦西亚</td>\n",
       "      <td>17</td>\n",
       "      <td>10</td>\n",
       "      <td>11</td>\n",
       "      <td>3</td>\n",
       "    </tr>\n",
       "    <tr>\n",
       "      <td>8</td>\n",
       "      <td>2012</td>\n",
       "      <td>瓦伦西亚</td>\n",
       "      <td>19</td>\n",
       "      <td>8</td>\n",
       "      <td>11</td>\n",
       "      <td>3</td>\n",
       "    </tr>\n",
       "  </tbody>\n",
       "</table>\n",
       "</div>"
      ],
      "text/plain": [
       "     年份    俱乐部   胜   平   负  当年名次\n",
       "0  2010   巴塞罗那  30   6   2     1\n",
       "2  2012   巴塞罗那  32   4   2     1\n",
       "3  2010  皇家马德里  29   5   4     2\n",
       "4  2011  皇家马德里  32   4   2     1\n",
       "5  2012  皇家马德里  26   7   5     2\n",
       "6  2010   瓦伦西亚  21   8   9     3\n",
       "7  2011   瓦伦西亚  17  10  11     3\n",
       "8  2012   瓦伦西亚  19   8  11     3"
      ]
     },
     "execution_count": 13,
     "metadata": {},
     "output_type": "execute_result"
    }
   ],
   "source": [
    "历年成绩表.drop(历年成绩表.index[1])     # 与“历年成绩表.drop[1]”相同。"
   ]
  },
  {
   "cell_type": "code",
   "execution_count": 21,
   "metadata": {},
   "outputs": [
    {
     "name": "stdout",
     "output_type": "stream",
     "text": [
      "每个俱乐部名次的分布\n",
      "==================\n"
     ]
    },
    {
     "data": {
      "text/html": [
       "<div>\n",
       "<style scoped>\n",
       "    .dataframe tbody tr th:only-of-type {\n",
       "        vertical-align: middle;\n",
       "    }\n",
       "\n",
       "    .dataframe tbody tr th {\n",
       "        vertical-align: top;\n",
       "    }\n",
       "\n",
       "    .dataframe thead th {\n",
       "        text-align: right;\n",
       "    }\n",
       "</style>\n",
       "<table border=\"1\" class=\"dataframe\">\n",
       "  <thead>\n",
       "    <tr style=\"text-align: right;\">\n",
       "      <th>当年名次</th>\n",
       "      <th>1</th>\n",
       "      <th>2</th>\n",
       "      <th>3</th>\n",
       "    </tr>\n",
       "    <tr>\n",
       "      <th>俱乐部</th>\n",
       "      <th></th>\n",
       "      <th></th>\n",
       "      <th></th>\n",
       "    </tr>\n",
       "  </thead>\n",
       "  <tbody>\n",
       "    <tr>\n",
       "      <td>巴塞罗那</td>\n",
       "      <td>2</td>\n",
       "      <td>1</td>\n",
       "      <td>0</td>\n",
       "    </tr>\n",
       "    <tr>\n",
       "      <td>瓦伦西亚</td>\n",
       "      <td>0</td>\n",
       "      <td>0</td>\n",
       "      <td>3</td>\n",
       "    </tr>\n",
       "    <tr>\n",
       "      <td>皇家马德里</td>\n",
       "      <td>1</td>\n",
       "      <td>2</td>\n",
       "      <td>0</td>\n",
       "    </tr>\n",
       "  </tbody>\n",
       "</table>\n",
       "</div>"
      ],
      "text/plain": [
       "当年名次   1  2  3\n",
       "俱乐部           \n",
       "巴塞罗那   2  1  0\n",
       "瓦伦西亚   0  0  3\n",
       "皇家马德里  1  2  0"
      ]
     },
     "execution_count": 21,
     "metadata": {},
     "output_type": "execute_result"
    }
   ],
   "source": [
    "print(\"每个俱乐部名次的分布\")\n",
    "print(\"==================\")\n",
    "\n",
    "pd.crosstab(历年成绩表.俱乐部, 历年成绩表.当年名次)"
   ]
  },
  {
   "cell_type": "code",
   "execution_count": null,
   "metadata": {},
   "outputs": [],
   "source": [
    "读入的CSV文件 = pd.read_csv('data.csv')                   # 从CSV载入dataframe。\n",
    "读入的CSV文件"
   ]
  }
 ],
 "metadata": {
  "kernelspec": {
   "display_name": "Python 3",
   "language": "python",
   "name": "python3"
  },
  "language_info": {
   "codemirror_mode": {
    "name": "ipython",
    "version": 3
   },
   "file_extension": ".py",
   "mimetype": "text/x-python",
   "name": "python",
   "nbconvert_exporter": "python",
   "pygments_lexer": "ipython3",
   "version": "3.7.4"
  }
 },
 "nbformat": 4,
 "nbformat_minor": 4
}

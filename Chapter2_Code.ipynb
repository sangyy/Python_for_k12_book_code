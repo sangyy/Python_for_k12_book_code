{
 "cells": [
  {
   "cell_type": "code",
   "execution_count": null,
   "metadata": {},
   "outputs": [],
   "source": [
    "a = 2\n",
    "if a < 5:\n",
    "    print(\"这是一个小于5的数。\")"
   ]
  },
  {
   "cell_type": "code",
   "execution_count": null,
   "metadata": {},
   "outputs": [],
   "source": [
    "a = -2\n",
    "if a < 0:\n",
    "    print(\"一个小于零的数。\")\n",
    "if a == 0:\n",
    "    print(\"这个数等于零。\")\n",
    "if a > 0:\n",
    "    print(\"一个大于零的数。\")"
   ]
  },
  {
   "cell_type": "code",
   "execution_count": null,
   "metadata": {},
   "outputs": [],
   "source": [
    "a = -2\n",
    "if a < 0:\n",
    "    pass\n",
    "    print(\"一个小于零的数。\")\n",
    "\n",
    "if a == 0:\n",
    "    pass\n",
    "    print(\"这个数等于零。\")\n",
    "\n",
    "if a > 0:\n",
    "    pass\n",
    "    print(\"一个大于零的数。\")"
   ]
  },
  {
   "cell_type": "code",
   "execution_count": null,
   "metadata": {},
   "outputs": [],
   "source": [
    "a = 5\n",
    "if a > 10:\n",
    "    print(\"a是大于10的数。\")\n",
    "else:\n",
    "    print(\"a是小于10的数。\")"
   ]
  },
  {
   "cell_type": "code",
   "execution_count": null,
   "metadata": {},
   "outputs": [],
   "source": [
    "color = \"橙色\"\n",
    "if color == \"红色\":\n",
    "    print(\"方块是红色的。\")\n",
    "elif color == \"绿色\":\n",
    "    print(\"方块是绿色的。\")\n",
    "else:\n",
    "    print(\"方块既不是红色的，也不是绿色的。\")"
   ]
  },
  {
   "cell_type": "code",
   "execution_count": null,
   "metadata": {
    "scrolled": true
   },
   "outputs": [],
   "source": [
    "# 语法错误的例子\n",
    "string = “你好！”"
   ]
  },
  {
   "cell_type": "code",
   "execution_count": null,
   "metadata": {},
   "outputs": [],
   "source": [
    "# 例外错误的例子\n",
    "f = open('file.txt','r')"
   ]
  },
  {
   "cell_type": "code",
   "execution_count": null,
   "metadata": {},
   "outputs": [],
   "source": [
    "# 产生错误的代码\n",
    "a = 1.35\n",
    "print(a[0])"
   ]
  },
  {
   "cell_type": "code",
   "execution_count": null,
   "metadata": {},
   "outputs": [],
   "source": [
    "try:\n",
    "    f = open(\"file.txt\",\"r\")\n",
    "except:\n",
    "    print(\"文件不存在！\")"
   ]
  },
  {
   "cell_type": "code",
   "execution_count": null,
   "metadata": {},
   "outputs": [],
   "source": [
    "# 运行try-except代码块的例子\n",
    "try:\n",
    "    a = 1.35\n",
    "    print(a[0])\n",
    "except:\n",
    "    print(\"变量a不是一个列表！\")"
   ]
  },
  {
   "cell_type": "code",
   "execution_count": null,
   "metadata": {},
   "outputs": [],
   "source": [
    "# 运行try代码块的例子\n",
    "try:\n",
    "    a = \"你好！\"\n",
    "    print(a[0])\n",
    "except:\n",
    "    print(\"变量不是一个列表！\")"
   ]
  },
  {
   "cell_type": "code",
   "execution_count": null,
   "metadata": {},
   "outputs": [],
   "source": [
    "# 重复运行一段代码 - 不使用循环的场合\n",
    "print(\"欢迎来到上海！\")\n",
    "print(\"欢迎来到上海！\")\n",
    "print(\"欢迎来到上海！\")"
   ]
  },
  {
   "cell_type": "code",
   "execution_count": null,
   "metadata": {},
   "outputs": [],
   "source": [
    "# 重复运行一段代码 - 使用for循环\n",
    "for i in range(3):\n",
    "    print(\"欢迎来到上海！\")"
   ]
  },
  {
   "cell_type": "code",
   "execution_count": null,
   "metadata": {},
   "outputs": [],
   "source": [
    "for i in range(3):\n",
    "    print(i)"
   ]
  },
  {
   "cell_type": "code",
   "execution_count": null,
   "metadata": {},
   "outputs": [],
   "source": [
    "for i in range(5,39,3):\n",
    "    print(i)"
   ]
  },
  {
   "cell_type": "code",
   "execution_count": null,
   "metadata": {},
   "outputs": [],
   "source": [
    "我喜欢的学科 = [\"数学\",\"物理\",\"信息技术\"]\n",
    "for 学科 in 我喜欢的学科:\n",
    "    print(学科)"
   ]
  },
  {
   "cell_type": "code",
   "execution_count": null,
   "metadata": {},
   "outputs": [],
   "source": [
    "for 中文字符 in \"这是一个字符串。\":\n",
    "    print(f\"字符串上的循环：{中文字符}\")"
   ]
  },
  {
   "cell_type": "code",
   "execution_count": null,
   "metadata": {},
   "outputs": [],
   "source": [
    "# while循环的例子\n",
    "i = 0\n",
    "while i < 4:\n",
    "    print(i)\n",
    "    i = i + 1"
   ]
  },
  {
   "cell_type": "code",
   "execution_count": null,
   "metadata": {},
   "outputs": [],
   "source": [
    "输入计数 = -1\n",
    "while 输入计数 <= 0:\n",
    "    用户输入 = input(\"请输入一个正数：\")\n",
    "    输入计数 = float(用户输入)"
   ]
  },
  {
   "cell_type": "code",
   "execution_count": null,
   "metadata": {},
   "outputs": [],
   "source": [
    "for i in range(6):\n",
    "    if i == 3:\n",
    "        continue\n",
    "    print(i)"
   ]
  },
  {
   "cell_type": "code",
   "execution_count": null,
   "metadata": {},
   "outputs": [],
   "source": [
    "for i in range(6):\n",
    "    if i == 3:\n",
    "        break\n",
    "    print(i)"
   ]
  },
  {
   "cell_type": "code",
   "execution_count": null,
   "metadata": {},
   "outputs": [],
   "source": [
    "# 导入平方根函数\n",
    "from math import sqrt"
   ]
  },
  {
   "cell_type": "code",
   "execution_count": null,
   "metadata": {},
   "outputs": [],
   "source": [
    "# 设置终止累加项的阈值：当和的新增项小于阈值时，求和过程结束。\n",
    "theta = 0.0000000001"
   ]
  },
  {
   "cell_type": "code",
   "execution_count": null,
   "metadata": {},
   "outputs": [],
   "source": [
    "# 初始化和、设置一般和项\n",
    "pi_sum = 0\n",
    "item_sum = 1\n",
    "i = 1\n",
    "\n",
    "# 重复求和，直到新增项的值不超过阈值\n",
    "while item_sum > theta:\n",
    "    pi_sum = pi_sum + item_sum\n",
    "    i = i + 1\n",
    "    item_sum = 1 / (i*i)\n",
    "pi = sqrt(6 * pi_sum)\n",
    "\n",
    "print(\"pi的近似值为\", pi)"
   ]
  },
  {
   "cell_type": "code",
   "execution_count": null,
   "metadata": {},
   "outputs": [],
   "source": [
    "# 从Python标准库random中导入生成随机数函数\n",
    "from random import random\n",
    "\n",
    "# 指定正方形中的随机点个数\n",
    "n = int(input(\"请输入投掷的点数：\"))\n",
    "\n",
    "# 计算落在扇形区域中点的个数\n",
    "m = 0\n",
    "\n",
    "for i in range(n):\n",
    "    \n",
    "    # 随机生成单位正方形中点的坐标（random()函数产生0到1之间的一个随机数）\n",
    "    x, y = random(),random()\n",
    "    \n",
    "    # 判断该随机点是否落在扇形中\n",
    "    if x**2 + y**2 < 1:\n",
    "        m = m + 1\n",
    "        \n",
    "pi = 4 * (m / n)\n",
    "\n",
    "print(\"圆周率的近似值为：\", pi)"
   ]
  },
  {
   "cell_type": "code",
   "execution_count": null,
   "metadata": {},
   "outputs": [],
   "source": [
    "# 定义一个字典对象（变量）\n",
    "儿童年龄 = {\"军军\": 8, \"丽丽\": 6}\n",
    "\n",
    "# 检查该变量的类型\n",
    "type(儿童年龄)"
   ]
  },
  {
   "cell_type": "code",
   "execution_count": null,
   "metadata": {},
   "outputs": [],
   "source": [
    "儿童年龄[\"丽丽\"]"
   ]
  },
  {
   "cell_type": "code",
   "execution_count": null,
   "metadata": {},
   "outputs": [],
   "source": [
    "儿童年龄[\"涛涛\"] = 7\n",
    "儿童年龄"
   ]
  },
  {
   "cell_type": "code",
   "execution_count": null,
   "metadata": {},
   "outputs": [],
   "source": [
    "儿童年龄.pop(\"军军\")\n",
    "儿童年龄"
   ]
  },
  {
   "cell_type": "code",
   "execution_count": null,
   "metadata": {},
   "outputs": [],
   "source": [
    "# 转换为关键词-值对的列表\n",
    "字典的关键词值对列表 = list(儿童年龄.items())\n",
    "字典的关键词值对列表"
   ]
  },
  {
   "cell_type": "code",
   "execution_count": null,
   "metadata": {},
   "outputs": [],
   "source": [
    "# 转换为关键词的列表\n",
    "字典的关键词列表 = list(儿童年龄.keys())\n",
    "字典的关键词列表"
   ]
  },
  {
   "cell_type": "code",
   "execution_count": null,
   "metadata": {},
   "outputs": [],
   "source": [
    "字典值的列表 = list(儿童年龄.values())\n",
    "字典值的列表"
   ]
  },
  {
   "cell_type": "code",
   "execution_count": null,
   "metadata": {
    "slideshow": {
     "slide_type": "notes"
    }
   },
   "outputs": [],
   "source": [
    "一个列表 = [8, -1, 3, -1, 0, 9, -11]\n",
    "\n",
    "# 创建一个集合对象，只包含来自原来列表中的唯一元素。\n",
    "一个集合 = set(一个列表)\n",
    "\n",
    "一个集合"
   ]
  },
  {
   "cell_type": "code",
   "execution_count": null,
   "metadata": {
    "slideshow": {
     "slide_type": "notes"
    }
   },
   "outputs": [],
   "source": [
    "# 返回集合中元素的个数。\n",
    "len(一个集合)"
   ]
  },
  {
   "cell_type": "code",
   "execution_count": null,
   "metadata": {
    "slideshow": {
     "slide_type": "notes"
    }
   },
   "outputs": [],
   "source": [
    "-11 in 一个集合"
   ]
  },
  {
   "cell_type": "code",
   "execution_count": null,
   "metadata": {},
   "outputs": [],
   "source": [
    "11 in 一个集合"
   ]
  },
  {
   "cell_type": "code",
   "execution_count": null,
   "metadata": {},
   "outputs": [],
   "source": [
    "# 定义一个元组变量\n",
    "元组变量 = (1,2,3)\n",
    "\n",
    "# 显示该变量的类型\n",
    "type(元组变量)"
   ]
  },
  {
   "cell_type": "code",
   "execution_count": null,
   "metadata": {},
   "outputs": [],
   "source": [
    "# 显示元组变量的内容\n",
    "元组变量"
   ]
  },
  {
   "cell_type": "code",
   "execution_count": null,
   "metadata": {},
   "outputs": [],
   "source": [
    "# 定义一个列表变量\n",
    "列表变量 = [3, 4, 5]\n",
    "\n",
    "# 修改列表变量中的某个元素\n",
    "列表变量[0] = 8\n",
    "列表变量"
   ]
  },
  {
   "cell_type": "code",
   "execution_count": null,
   "metadata": {
    "scrolled": true
   },
   "outputs": [],
   "source": [
    "元组变量[0] = 8"
   ]
  },
  {
   "cell_type": "code",
   "execution_count": null,
   "metadata": {},
   "outputs": [],
   "source": [
    "# 不加逗号的单一数值就是数值变量\n",
    "数值变量 = (5)\n",
    "type(数值变量)"
   ]
  },
  {
   "cell_type": "code",
   "execution_count": null,
   "metadata": {},
   "outputs": [],
   "source": [
    "# 加上逗号则定义单个元素的元组\n",
    "元组变量 = (5,)\n",
    "type(元组变量)"
   ]
  },
  {
   "cell_type": "code",
   "execution_count": null,
   "metadata": {},
   "outputs": [],
   "source": [
    "def 加倍(n):\n",
    "    输出 = 2 * n\n",
    "    return 输出"
   ]
  },
  {
   "cell_type": "code",
   "execution_count": null,
   "metadata": {},
   "outputs": [],
   "source": [
    "# 通过函数名调用刚刚定义的函数\n",
    "加倍(7)"
   ]
  },
  {
   "cell_type": "code",
   "execution_count": null,
   "metadata": {},
   "outputs": [],
   "source": [
    "# 计算三角形面积的函数\n",
    "def 三角形面积(底边长, 底边上的高):\n",
    "    面积 = 0.5 * 底边长 * 底边上的高\n",
    "    return 面积"
   ]
  },
  {
   "cell_type": "code",
   "execution_count": null,
   "metadata": {},
   "outputs": [],
   "source": [
    "三角形面积(5, 4)    # 使用具体的参量值调用函数"
   ]
  },
  {
   "cell_type": "code",
   "execution_count": null,
   "metadata": {},
   "outputs": [],
   "source": [
    "def 自由落体距离(t, g = 9.81):\n",
    "    d = 0.5 * g * t**2\n",
    "    return d"
   ]
  },
  {
   "cell_type": "code",
   "execution_count": null,
   "metadata": {},
   "outputs": [],
   "source": [
    "自由落体距离(0.3)"
   ]
  },
  {
   "cell_type": "code",
   "execution_count": null,
   "metadata": {},
   "outputs": [],
   "source": [
    "%%writefile user_functions.py\n",
    "\n",
    "# 将若干函数写入模块文件的例子\n",
    "def 三角形面积(底边长, 底边上的高):\n",
    "    面积 = 0.5 * 底边长 * 底边上的高\n",
    "    return 面积\n",
    "\n",
    "def 自由落体距离(t, g = 9.81):\n",
    "    d = 0.5 * g * t**2\n",
    "    return d"
   ]
  },
  {
   "cell_type": "code",
   "execution_count": null,
   "metadata": {},
   "outputs": [],
   "source": [
    "# 导入并调用自定义模块\n",
    "import user_functions\n",
    "\n",
    "user_functions.三角形面积(3,8)"
   ]
  },
  {
   "cell_type": "code",
   "execution_count": null,
   "metadata": {},
   "outputs": [],
   "source": [
    "# 别名导入\n",
    "import user_functions as uf\n",
    "\n",
    "uf.三角形面积(3,8)"
   ]
  },
  {
   "cell_type": "code",
   "execution_count": null,
   "metadata": {},
   "outputs": [],
   "source": [
    "# 显示print函数的docstrings\n",
    "help(print)"
   ]
  },
  {
   "cell_type": "code",
   "execution_count": null,
   "metadata": {},
   "outputs": [],
   "source": [
    "help(uf.三角形面积)"
   ]
  },
  {
   "cell_type": "code",
   "execution_count": null,
   "metadata": {},
   "outputs": [],
   "source": [
    "# 使用关键词def定义函数的标准方法\n",
    "def 求和函数_1(a, b):\n",
    "    return a + b"
   ]
  },
  {
   "cell_type": "code",
   "execution_count": null,
   "metadata": {},
   "outputs": [],
   "source": [
    "# 可用函数名重复调用\n",
    "求和函数_1(20,30)"
   ]
  },
  {
   "cell_type": "code",
   "execution_count": null,
   "metadata": {},
   "outputs": [],
   "source": [
    "# 代码中仅需要进行一次性求和计算，使用lambda函数。\n",
    "求和函数_2 = lambda a, b: a + b  "
   ]
  },
  {
   "cell_type": "code",
   "execution_count": null,
   "metadata": {},
   "outputs": [],
   "source": [
    "求和函数_2(20,30)"
   ]
  },
  {
   "cell_type": "code",
   "execution_count": null,
   "metadata": {},
   "outputs": [],
   "source": [
    "# 求两个数的和可以这样调用\n",
    "求和函数_2(20, 30)"
   ]
  },
  {
   "cell_type": "code",
   "execution_count": null,
   "metadata": {},
   "outputs": [],
   "source": [
    "# 也可以不用函数名，直接将参量传递给函数体。\n",
    "(lambda a, b: a + b)(20, 30)"
   ]
  },
  {
   "cell_type": "code",
   "execution_count": null,
   "metadata": {},
   "outputs": [],
   "source": [
    "def 求和函数_3(a, b, 求和函数_2):\n",
    "    print(\"a =\", a) \n",
    "    print(\"b =\", b)\n",
    "    print(\"a与b的和为\", 求和函数_2(a, b)) "
   ]
  },
  {
   "cell_type": "code",
   "execution_count": null,
   "metadata": {},
   "outputs": [],
   "source": [
    "# 在函数中传递函数名（传名调用）\n",
    "求和函数_3(20, 30, 求和函数_2)"
   ]
  },
  {
   "cell_type": "code",
   "execution_count": null,
   "metadata": {},
   "outputs": [],
   "source": [
    "# 在函数中直接传递函数体（无需函数名）\n",
    "求和函数_3(20, 30, lambda x, y: x + y)"
   ]
  }
 ],
 "metadata": {
  "kernelspec": {
   "display_name": "Python 3",
   "language": "python",
   "name": "python3"
  },
  "language_info": {
   "codemirror_mode": {
    "name": "ipython",
    "version": 3
   },
   "file_extension": ".py",
   "mimetype": "text/x-python",
   "name": "python",
   "nbconvert_exporter": "python",
   "pygments_lexer": "ipython3",
   "version": "3.7.4"
  }
 },
 "nbformat": 4,
 "nbformat_minor": 4
}
